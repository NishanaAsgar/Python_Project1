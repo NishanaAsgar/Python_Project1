{
  "nbformat": 4,
  "nbformat_minor": 0,
  "metadata": {
    "colab": {
      "provenance": []
    },
    "kernelspec": {
      "name": "python3",
      "display_name": "Python 3"
    },
    "language_info": {
      "name": "python"
    }
  },
  "cells": [
    {
      "cell_type": "markdown",
      "source": [
        "1.Write a Python program to check that a string contains only a certain set of characters (in this case a-z, A-Z and 0-9).\n",
        "\n"
      ],
      "metadata": {
        "id": "7hInU9OdC5Fx"
      }
    },
    {
      "cell_type": "code",
      "source": [
        "def check(test_str):\n",
        "    import re\n",
        "\n",
        "    pattern = r'[^\\.A-Za-z0-9]'\n",
        "    if re.search(pattern, test_str):\n",
        "\n",
        "        print('Invalid : %r' % (test_str,))\n",
        "    else:\n",
        "\n",
        "        print('Valid   : %r' % (test_str,))\n",
        "\n",
        "check(test_str='abcde.1')\n",
        "check(test_str='abcde.1#')\n",
        "check(test_str='ABCDE.12')\n",
        "\n",
        "\n"
      ],
      "metadata": {
        "colab": {
          "base_uri": "https://localhost:8080/"
        },
        "id": "PavJfYpe6bys",
        "outputId": "7c5019bc-2aa3-4591-a592-94a3a17164c1"
      },
      "execution_count": 6,
      "outputs": [
        {
          "output_type": "stream",
          "name": "stdout",
          "text": [
            "Valid   : 'abcde.1'\n",
            "Invalid : 'abcde.1#'\n",
            "Valid   : 'ABCDE.12'\n"
          ]
        }
      ]
    },
    {
      "cell_type": "markdown",
      "source": [
        "2. Write a Python program that matches a string that has an a followed by zero or more b's.\n"
      ],
      "metadata": {
        "id": "f031Pr0_76JQ"
      }
    },
    {
      "cell_type": "code",
      "source": [
        "def check(test_str):\n",
        "    import re\n",
        "\n",
        "    pattern = \"^a(b*)$\"\n",
        "    if re.search(pattern, test_str):\n",
        "\n",
        "        print('valid : %r' % (test_str,))\n",
        "    else:\n",
        "\n",
        "        print('Invalid   : %r' % (test_str,))\n",
        "\n",
        "check(test_str='ac')\n",
        "check(test_str='abb1#')\n",
        "check(test_str='Abbbbbb')"
      ],
      "metadata": {
        "colab": {
          "base_uri": "https://localhost:8080/"
        },
        "id": "8SLmvgcl8jgv",
        "outputId": "7c6def08-2534-4372-f77c-f41ac77e53a3"
      },
      "execution_count": 3,
      "outputs": [
        {
          "output_type": "stream",
          "name": "stdout",
          "text": [
            "Invalid   : 'ac'\n",
            "Invalid   : 'abb1#'\n",
            "Invalid   : 'Abbbbbb'\n"
          ]
        }
      ]
    },
    {
      "cell_type": "markdown",
      "source": [
        "3.Replace only the first occurrence of 5 with five for the given string"
      ],
      "metadata": {
        "id": "7pggTJIw2yNz"
      }
    },
    {
      "cell_type": "code",
      "source": [
        "from typing_extensions import Text\n",
        "import re\n",
        "\n",
        "txt='They ate 5 apples and 5 oranges'\n",
        "x = re.sub('5', 'five', txt)\n",
        "print(x)"
      ],
      "metadata": {
        "colab": {
          "base_uri": "https://localhost:8080/"
        },
        "id": "7xW2EW9325LA",
        "outputId": "6d97ae45-4439-4943-e0ad-c2fa959403d3"
      },
      "execution_count": 7,
      "outputs": [
        {
          "output_type": "stream",
          "name": "stdout",
          "text": [
            "They ate five apples and five oranges\n"
          ]
        }
      ]
    },
    {
      "cell_type": "markdown",
      "source": [
        "4.Write a Python program that matches a string that has an a followed by three 'b'.\n"
      ],
      "metadata": {
        "id": "p9vpUaAg-qZC"
      }
    },
    {
      "cell_type": "code",
      "source": [
        "def check(test_str):\n",
        "    import re\n",
        "\n",
        "    pattern = r\"b{2}\"\n",
        "    if re.search(pattern, test_str):\n",
        "\n",
        "        print('valid : %r' % (test_str,))\n",
        "    else:\n",
        "\n",
        "        print('Invalid   : %r' % (test_str,))\n",
        "check(test_str='ab')\n",
        "check(test_str='bbbbb1#')\n",
        "check(test_str='Abbb')"
      ],
      "metadata": {
        "colab": {
          "base_uri": "https://localhost:8080/"
        },
        "id": "P4enrMRU-sTu",
        "outputId": "c1627641-4853-4629-afde-8c5034e5bbe7"
      },
      "execution_count": 17,
      "outputs": [
        {
          "output_type": "stream",
          "name": "stdout",
          "text": [
            "Invalid   : 'ab'\n",
            "valid : 'bbbbb1#'\n",
            "valid : 'Abbb'\n"
          ]
        }
      ]
    },
    {
      "cell_type": "markdown",
      "source": [
        "5.Write a Python program that matches a string that has an 'a' followed by anything ending in 'b'."
      ],
      "metadata": {
        "id": "IsZXzzE2FjR9"
      }
    },
    {
      "cell_type": "code",
      "source": [
        "def check(test_str):\n",
        "    import re\n",
        "\n",
        "    pattern = r\"^a.+b$\"\n",
        "    if re.search(pattern, test_str):\n",
        "\n",
        "        print('valid : %r' % (test_str,))\n",
        "    else:\n",
        "\n",
        "        print('Invalid   : %r' % (test_str,))\n",
        "\n",
        "check(test_str='absorb')\n",
        "check(test_str='abc')\n",
        "check(test_str='adorb')\n",
        "check(test_str='applicable')"
      ],
      "metadata": {
        "colab": {
          "base_uri": "https://localhost:8080/"
        },
        "id": "Mdd-nOBnFrco",
        "outputId": "8fe697ac-991c-484b-d29f-e8c1500a749d"
      },
      "execution_count": 21,
      "outputs": [
        {
          "output_type": "stream",
          "name": "stdout",
          "text": [
            "valid : 'absorb'\n",
            "Invalid   : 'abc'\n",
            "valid : 'adorb'\n",
            "Invalid   : 'applicable'\n"
          ]
        }
      ]
    },
    {
      "cell_type": "markdown",
      "source": [
        "6.Write a Python program to search for numbers (0-9) of length between 1 and 3 in a given string."
      ],
      "metadata": {
        "id": "538lJXMmI-uG"
      }
    },
    {
      "cell_type": "code",
      "source": [
        "import re\n",
        "\n",
        "x = re.finditer(r\"([0-9]{1,3})\", \"Exercises number 1, 12, 13, and 345 are important\")\n",
        "\n",
        "print(\"Number of length 1 to 3\")\n",
        "for n in x:\n",
        "     print(n.group(0))"
      ],
      "metadata": {
        "colab": {
          "base_uri": "https://localhost:8080/"
        },
        "id": "Y63iyfleLDnh",
        "outputId": "186e49d6-4001-4bd7-cc70-ebff36990376"
      },
      "execution_count": 5,
      "outputs": [
        {
          "output_type": "stream",
          "name": "stdout",
          "text": [
            "Number of length 1 to 3\n",
            "1\n",
            "12\n",
            "13\n",
            "345\n"
          ]
        }
      ]
    },
    {
      "cell_type": "markdown",
      "source": [
        "7.Write a Python program to search for literal strings within a string.\n",
        "Sample text : 'The quick brown fox jumps over the lazy dog.'\n",
        "Searched words : 'fox', 'dog', 'horse'"
      ],
      "metadata": {
        "id": "4_AqRycjgJnI"
      }
    },
    {
      "cell_type": "code",
      "source": [
        "import re\n",
        "patterns = [ 'fox', 'dog', 'horse' ]\n",
        "text = 'The quick brown fox jumps over the lazy dog.'\n",
        "for pattern in patterns:\n",
        "    print('Searching for \"%s\" in \"%s\" :'%(pattern, text),)\n",
        "    if re.search(pattern,  text):\n",
        "        print('Matched!')\n",
        "    else:\n",
        "        print('Not Matched!')\n",
        ""
      ],
      "metadata": {
        "colab": {
          "base_uri": "https://localhost:8080/"
        },
        "id": "NwtANUcqlTuq",
        "outputId": "20c1046e-33f5-47c4-c39e-727c5241978f"
      },
      "execution_count": 22,
      "outputs": [
        {
          "output_type": "stream",
          "name": "stdout",
          "text": [
            "Searching for \"fox\" in \"The quick brown fox jumps over the lazy dog.\" :\n",
            "Matched!\n",
            "Searching for \"dog\" in \"The quick brown fox jumps over the lazy dog.\" :\n",
            "Matched!\n",
            "Searching for \"horse\" in \"The quick brown fox jumps over the lazy dog.\" :\n",
            "Not Matched!\n"
          ]
        }
      ]
    },
    {
      "cell_type": "markdown",
      "source": [
        "8.Write a Python program to search for a literal string in a string and also find the location within the original string where the pattern occurs.\n"
      ],
      "metadata": {
        "id": "5YMdnnDMfJbS"
      }
    },
    {
      "cell_type": "code",
      "source": [
        "import re\n",
        "\n",
        "txt='The quick brown fox jumps over the lazy dog.'\n",
        "p=\"fox\"\n",
        "\n",
        "match= re.search(p, txt)\n",
        "\n",
        "if match:\n",
        "  s=match.start()\n",
        "  e=match.end()\n",
        "\n",
        "  print(f\"Found'{p}' in '{txt}' from {s} to {e}\")\n",
        "else:\n",
        "  print(f\"Not found {p} in {txt}\")\n",
        "\n",
        ""
      ],
      "metadata": {
        "colab": {
          "base_uri": "https://localhost:8080/"
        },
        "id": "61AzI8gafLFP",
        "outputId": "ddd9574f-584b-419a-d06d-1778a59d62de"
      },
      "execution_count": 11,
      "outputs": [
        {
          "output_type": "stream",
          "name": "stdout",
          "text": [
            "Found'fox' in 'The quick brown fox jumps over the lazy dog.' from 16 to 19\n"
          ]
        }
      ]
    },
    {
      "cell_type": "markdown",
      "source": [
        "\n",
        "9.Write a Python program to extract year, month and date from an URL"
      ],
      "metadata": {
        "id": "josjLFYp59NO"
      }
    },
    {
      "cell_type": "code",
      "source": [
        "import re\n",
        "url1= \"https://www.washingtonpost.com/news/football-insider/wp/2016/09/02/odell-beckhams-fame-rests-on-one-stupid-little-ball-josh-norman-tells-author/\"\n",
        "p=re.compile('\\d{4}/\\d{2}/\\d{2}/')\n",
        "print(p.findall(url1))"
      ],
      "metadata": {
        "colab": {
          "base_uri": "https://localhost:8080/"
        },
        "id": "tbVLiLMv6Bsm",
        "outputId": "9712f17f-a944-4746-ac5d-db9087bed9ac"
      },
      "execution_count": 1,
      "outputs": [
        {
          "output_type": "stream",
          "name": "stdout",
          "text": [
            "['2016/09/02/']\n"
          ]
        }
      ]
    },
    {
      "cell_type": "markdown",
      "source": [
        "10.Write a Python program to find URLs in a string."
      ],
      "metadata": {
        "id": "Wfw-i3w3VT18"
      }
    },
    {
      "cell_type": "code",
      "source": [
        "import re\n",
        "\n",
        "text = '<p>Contents :</p><a href=\"https://w3resource.com\">Python Examples</a><a href=\"http://github.com\">Even More Examples</a>'\n",
        "p=\"http[s]?://(?:[a-zA-Z]|[0-9]|[$-_@.&+]|[!*\\(\\),]|(?:%[0-9a-fA-F][0-9a-fA-F]))+\"\n",
        "r=re.findall(p,text)\n",
        "print(r)\n",
        "\n"
      ],
      "metadata": {
        "colab": {
          "base_uri": "https://localhost:8080/"
        },
        "id": "Nn35__d0VYFv",
        "outputId": "aa2a3968-9f82-4c8d-cb31-d1d17bba0744"
      },
      "execution_count": 6,
      "outputs": [
        {
          "output_type": "stream",
          "name": "stdout",
          "text": [
            "['https://w3resource.com', 'http://github.com']\n"
          ]
        }
      ]
    },
    {
      "cell_type": "markdown",
      "source": [
        "11.Write a Python program to remove the parenthesis area in a string.\\"
      ],
      "metadata": {
        "id": "IYr-5VWYXoeU"
      }
    },
    {
      "cell_type": "code",
      "source": [
        "import re\n",
        "items = [\"example (.com)\", \"w3resource\", \"github (.com)\", \"stackoverflow (.com)\"]\n",
        "for item in items:\n",
        "    print(re.sub(r\" ?\\([^)]+\\)\", \"\", item))\n",
        ""
      ],
      "metadata": {
        "colab": {
          "base_uri": "https://localhost:8080/"
        },
        "id": "iRdFcrZYaBci",
        "outputId": "9c7c1605-b9ae-44c6-f1b4-49e74a164836"
      },
      "execution_count": 17,
      "outputs": [
        {
          "output_type": "stream",
          "name": "stdout",
          "text": [
            "example\n",
            "w3resource\n",
            "github\n",
            "stackoverflow\n"
          ]
        }
      ]
    },
    {
      "cell_type": "markdown",
      "source": [
        "12.Write a Python program to concatenate the consecutive numbers in a given string."
      ],
      "metadata": {
        "id": "5fQEANcjcw8K"
      }
    },
    {
      "cell_type": "code",
      "source": [
        "import re\n",
        "\n",
        "txt = \"Enter at 1 20 Kearny Street. The security desk can direct you to floor 1 6. Please have your identification ready.\"\n",
        "print(\"Original string:\",txt)\n",
        "newS = re.sub(r\"(?<=\\d)\\s(?=\\d)\", '', txt)\n",
        "print('\\nUpdated string:',newS)\n"
      ],
      "metadata": {
        "colab": {
          "base_uri": "https://localhost:8080/"
        },
        "id": "-JYFyYGTcyZO",
        "outputId": "f5b6523c-cc37-4bca-cc73-ee1df7ccee56"
      },
      "execution_count": 19,
      "outputs": [
        {
          "output_type": "stream",
          "name": "stdout",
          "text": [
            "Original string: Enter at 1 20 Kearny Street. The security desk can direct you to floor 1 6. Please have your identification ready.\n",
            "\n",
            "Updated string: Enter at 120 Kearny Street. The security desk can direct you to floor 16. Please have your identification ready.\n"
          ]
        }
      ]
    }
  ]
}