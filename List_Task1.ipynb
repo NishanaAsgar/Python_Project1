{
  "nbformat": 4,
  "nbformat_minor": 0,
  "metadata": {
    "colab": {
      "provenance": []
    },
    "kernelspec": {
      "name": "python3",
      "display_name": "Python 3"
    },
    "language_info": {
      "name": "python"
    }
  },
  "cells": [
    {
      "cell_type": "markdown",
      "source": [
        "1.Write a Python program to sum all the items in a list."
      ],
      "metadata": {
        "id": "WxSiSbHeptt8"
      }
    },
    {
      "cell_type": "code",
      "source": [
        "list=[34,67,87,12,100]\n",
        "sum=0\n",
        "for x in list:\n",
        "  sum=sum+x\n",
        "print(sum)\n"
      ],
      "metadata": {
        "colab": {
          "base_uri": "https://localhost:8080/"
        },
        "id": "4lXIHAwepveO",
        "outputId": "cdd119ec-467e-4b84-a068-ef02a960dfdd"
      },
      "execution_count": null,
      "outputs": [
        {
          "output_type": "stream",
          "name": "stdout",
          "text": [
            "300\n"
          ]
        }
      ]
    },
    {
      "cell_type": "markdown",
      "source": [
        "2.Write a Python program to get the largest number from a list.\n"
      ],
      "metadata": {
        "id": "di2lhqWzp75J"
      }
    },
    {
      "cell_type": "code",
      "source": [
        "list=[34,67,87,12,100]\n",
        "list.sort()\n",
        "print(list[-1])"
      ],
      "metadata": {
        "colab": {
          "base_uri": "https://localhost:8080/"
        },
        "id": "ZNO9aGdAp9fw",
        "outputId": "d8b94877-3087-452b-dda3-f217d491a256"
      },
      "execution_count": null,
      "outputs": [
        {
          "output_type": "stream",
          "name": "stdout",
          "text": [
            "100\n"
          ]
        }
      ]
    },
    {
      "cell_type": "markdown",
      "source": [
        "3.Write a Python program to count the number of strings from a given list of strings. The string length is 2 or more and the first and last characters are the same."
      ],
      "metadata": {
        "id": "CXxSm_CiuD6p"
      }
    },
    {
      "cell_type": "code",
      "source": [
        "list1=['abc', 'xyz', 'aba', '1221']\n",
        "count=0\n",
        "for x in list1:\n",
        "  if len(x)>1 and x[0]==x[-1]:\n",
        "    count=count+1\n",
        "print(count)\n"
      ],
      "metadata": {
        "colab": {
          "base_uri": "https://localhost:8080/"
        },
        "id": "yQQ96-Fiu1gh",
        "outputId": "46b62814-a641-417b-8b6b-8b75f87f351b"
      },
      "execution_count": null,
      "outputs": [
        {
          "output_type": "stream",
          "name": "stdout",
          "text": [
            "2\n"
          ]
        }
      ]
    },
    {
      "cell_type": "markdown",
      "source": [
        "4.Write a Python program to remove duplicates from a list."
      ],
      "metadata": {
        "id": "7FnEvDKZOFz5"
      }
    },
    {
      "cell_type": "code",
      "source": [
        "mylist=[\"apple\",\"banana\",\"pear\",\"apple\",\"cherry\",\"banana\"]\n",
        "mylist=list(dict.fromkeys(mylist))\n",
        "print(mylist)"
      ],
      "metadata": {
        "colab": {
          "base_uri": "https://localhost:8080/"
        },
        "id": "syI_D-pkOr97",
        "outputId": "34647563-8ca6-4d13-b28f-de8010386803"
      },
      "execution_count": null,
      "outputs": [
        {
          "output_type": "stream",
          "name": "stdout",
          "text": [
            "['apple', 'banana', 'pear', 'cherry']\n"
          ]
        }
      ]
    },
    {
      "cell_type": "markdown",
      "source": [
        "5.Write a Python program to check if a list is empty or not."
      ],
      "metadata": {
        "id": "_j5GuC8K_mh9"
      }
    },
    {
      "cell_type": "code",
      "source": [
        "list1=[1,3,9,5,7,4,10,8]\n",
        "x=len(list1)\n",
        "if x==0:\n",
        " print(\"list is empty\")\n",
        "else:\n",
        "  print(\"list is not empty\")\n"
      ],
      "metadata": {
        "colab": {
          "base_uri": "https://localhost:8080/"
        },
        "id": "vpD0QvJd_s8a",
        "outputId": "059f426c-2f19-4e74-851c-460fc5478524"
      },
      "execution_count": null,
      "outputs": [
        {
          "output_type": "stream",
          "name": "stdout",
          "text": [
            "list is not empty\n"
          ]
        }
      ]
    },
    {
      "cell_type": "markdown",
      "source": [
        "6.Write a Python program to filter the list if the length of the character is < 4"
      ],
      "metadata": {
        "id": "sVN3QRQhIaNE"
      }
    },
    {
      "cell_type": "code",
      "source": [
        "mylist=['abc', 'xyz','3542','123','aba', '1221']\n",
        "for x in mylist:\n",
        "  if len(x)<4:\n",
        "    print(x)\n"
      ],
      "metadata": {
        "colab": {
          "base_uri": "https://localhost:8080/"
        },
        "id": "Upc5Ysi6JHOu",
        "outputId": "faad6d91-0923-4a66-9438-76a7fa0ecc8e"
      },
      "execution_count": null,
      "outputs": [
        {
          "output_type": "stream",
          "name": "stdout",
          "text": [
            "abc\n",
            "xyz\n",
            "123\n",
            "aba\n"
          ]
        }
      ]
    },
    {
      "cell_type": "markdown",
      "source": [
        "7.Write a Python program to find the second largest number in a list."
      ],
      "metadata": {
        "id": "F47hU4FMNXor"
      }
    },
    {
      "cell_type": "code",
      "source": [
        "list1=[1,3,9,5,7,4,10,8]\n",
        "list1.sort()\n",
        "print(list1)\n",
        "print(\"second largest is:\",list1[-2])\n",
        "\n"
      ],
      "metadata": {
        "colab": {
          "base_uri": "https://localhost:8080/"
        },
        "id": "hWtAsqz8NZR1",
        "outputId": "25d8fd0f-6686-404f-d02d-c3d00f16cdf9"
      },
      "execution_count": null,
      "outputs": [
        {
          "output_type": "stream",
          "name": "stdout",
          "text": [
            "[1, 3, 4, 5, 7, 8, 9, 10]\n",
            "second largest is: 9\n"
          ]
        }
      ]
    },
    {
      "cell_type": "markdown",
      "source": [
        "8. Write a Python program to reverse a list at a specific location.\n"
      ],
      "metadata": {
        "id": "uKZkww21S3s1"
      }
    },
    {
      "cell_type": "code",
      "source": [
        "list1=[1,3,9,5,7,4,10,8]\n",
        "list1.reverse()\n",
        "print(list1)"
      ],
      "metadata": {
        "colab": {
          "base_uri": "https://localhost:8080/"
        },
        "id": "iWpKSkSyS6in",
        "outputId": "95a47178-3bf6-44f7-8c38-7407a7fb9577"
      },
      "execution_count": null,
      "outputs": [
        {
          "output_type": "stream",
          "name": "stdout",
          "text": [
            "[8, 10, 4, 7, 5, 9, 3, 1]\n"
          ]
        }
      ]
    },
    {
      "cell_type": "markdown",
      "source": [
        " 9.Write a Python program to check if a list is a palindrome or not. Return true otherwise false."
      ],
      "metadata": {
        "id": "ENvF26t7xrbA"
      }
    },
    {
      "cell_type": "code",
      "source": [
        "list1=[7,7,7,8,7,7,7]\n",
        "r=list(list1)\n",
        "list1.reverse()\n",
        "\n",
        "if list1==r:\n",
        "  print(\"list is palindrom\")\n",
        "else:\n",
        "  print(\"list is not palindrom\")"
      ],
      "metadata": {
        "colab": {
          "base_uri": "https://localhost:8080/"
        },
        "id": "knzv6rwOyeRt",
        "outputId": "304621f2-b455-40e6-e126-ea9bc0e5cdc7"
      },
      "execution_count": null,
      "outputs": [
        {
          "output_type": "stream",
          "name": "stdout",
          "text": [
            "list is palindrom\n"
          ]
        }
      ]
    },
    {
      "cell_type": "markdown",
      "source": [
        "10.Write a Python a program to find the union and intersection of two lists."
      ],
      "metadata": {
        "id": "TNhDYHXN7bhI"
      }
    },
    {
      "cell_type": "code",
      "source": [
        "list1=[1,2,3,4]\n",
        "list2=[5,6,2,3,7]\n",
        "union=list(set(list1) | set(list2))\n",
        "print(union)\n",
        "intersection=list(set(list1) & set(list2))\n",
        "print(intersection)"
      ],
      "metadata": {
        "colab": {
          "base_uri": "https://localhost:8080/"
        },
        "id": "rGkB5KA77dIL",
        "outputId": "27bf321f-55f3-4771-aa80-8a26b000cc29"
      },
      "execution_count": null,
      "outputs": [
        {
          "output_type": "stream",
          "name": "stdout",
          "text": [
            "[1, 2, 3, 4, 5, 6, 7]\n",
            "[2, 3]\n"
          ]
        }
      ]
    },
    {
      "cell_type": "markdown",
      "source": [
        "11.Write a Python script to sort (ascending and descending) a dictionary by value"
      ],
      "metadata": {
        "id": "YZVfv50ZDUh-"
      }
    },
    {
      "cell_type": "code",
      "source": [
        "d={2:3,5:6,7:9,9:8,3:1}\n",
        "l=list(d.items())\n",
        "l.sort(key=lambda x:x[1])\n",
        "print(l)"
      ],
      "metadata": {
        "id": "NvcVev9-6e0l",
        "colab": {
          "base_uri": "https://localhost:8080/"
        },
        "outputId": "c7a25214-c716-4056-e627-8010ed5824a2"
      },
      "execution_count": 2,
      "outputs": [
        {
          "output_type": "stream",
          "name": "stdout",
          "text": [
            "[(3, 1), (2, 3), (5, 6), (9, 8), (7, 9)]\n"
          ]
        }
      ]
    },
    {
      "cell_type": "markdown",
      "source": [
        "12.Write a Python script to check whether a given key already exists in a dictionary."
      ],
      "metadata": {
        "id": "m1YyjrpG6fIo"
      }
    },
    {
      "cell_type": "code",
      "source": [
        "d = {\n",
        "  \"brand\": \"Ford\",\n",
        "  \"model\": \"Mustang\",\n",
        "  \"year\": 1964\n",
        "}\n",
        "if \"model\" in d:\n",
        "  print(\"Yes, 'model' is one of the keys in the  dictionary\")\n",
        "else:\n",
        "  print(\"the key is not exist\")\n"
      ],
      "metadata": {
        "colab": {
          "base_uri": "https://localhost:8080/"
        },
        "id": "MgoQO64t6j8-",
        "outputId": "120ad236-f9d7-4ff8-947b-e01b9df0e042"
      },
      "execution_count": null,
      "outputs": [
        {
          "output_type": "stream",
          "name": "stdout",
          "text": [
            "Yes, 'model' is one of the keys in the  dictionary\n"
          ]
        }
      ]
    },
    {
      "cell_type": "markdown",
      "source": [
        "13.Write a Python program to sum all the values in a dictionary.\n",
        "\n",
        "[ ]\n"
      ],
      "metadata": {
        "id": "qCTgKbnZ89TZ"
      }
    },
    {
      "cell_type": "code",
      "source": [
        "d={1:2,\n",
        "   4:5,\n",
        "   6:7,\n",
        "   9:3}\n",
        "sum=0\n",
        "for x in d.values():\n",
        "  sum=sum+x\n",
        "print(sum)\n"
      ],
      "metadata": {
        "colab": {
          "base_uri": "https://localhost:8080/"
        },
        "id": "YcVcPVeY9Bia",
        "outputId": "ca269fe4-e378-4e24-e262-02f9237a4eae"
      },
      "execution_count": null,
      "outputs": [
        {
          "output_type": "stream",
          "name": "stdout",
          "text": [
            "17\n"
          ]
        }
      ]
    },
    {
      "cell_type": "markdown",
      "source": [
        "14..Write a Python program to create a dictionary with a number and its corresponding square from 1 to input number. And also check if the input number is less than 10"
      ],
      "metadata": {
        "id": "w_-ZSkEW-eW7"
      }
    },
    {
      "cell_type": "code",
      "source": [
        "n = int(input())\n",
        "d = dict()\n",
        "if n<=10:\n",
        "    for x in range(1, n + 1):\n",
        "      d[x]=x*x\n",
        "print(d)\n"
      ],
      "metadata": {
        "colab": {
          "base_uri": "https://localhost:8080/"
        },
        "id": "h0Dy5rQn-iLU",
        "outputId": "2d267a25-8fd9-474a-ef1b-fa61da24367e"
      },
      "execution_count": null,
      "outputs": [
        {
          "output_type": "stream",
          "name": "stdout",
          "text": [
            "5\n",
            "{1: 1, 2: 4, 3: 9, 4: 16, 5: 25}\n"
          ]
        }
      ]
    },
    {
      "cell_type": "markdown",
      "source": [
        "15.Write a Python program to sort a given dictionary by key."
      ],
      "metadata": {
        "id": "26GuSLYKCxV8"
      }
    },
    {
      "cell_type": "code",
      "source": [
        "d={\"fruit\": \"apple\",\n",
        "  \"drink\": \"lemon\",\n",
        "  \"vegitable\":\"potato\"}\n",
        "k=list(d.items())\n",
        "k.sort()\n",
        "d=dict(k)\n",
        "print(d)\n",
        "\n"
      ],
      "metadata": {
        "colab": {
          "base_uri": "https://localhost:8080/"
        },
        "id": "Q85uBVA6C5C9",
        "outputId": "cb8f43fc-0433-4293-f9a1-332f30aecb93"
      },
      "execution_count": null,
      "outputs": [
        {
          "output_type": "stream",
          "name": "stdout",
          "text": [
            "{'drink': 'lemon', 'fruit': 'apple', 'vegitable': 'potato'}\n"
          ]
        }
      ]
    },
    {
      "cell_type": "markdown",
      "source": [
        "16.Write a Python program to create a dictionary from a string."
      ],
      "metadata": {
        "id": "0MT-RcCLD-dl"
      }
    },
    {
      "cell_type": "code",
      "source": [
        "s= 'learnpython'\n",
        "d={}\n",
        "for x in s:\n",
        "  d[x]=d.get(x,0)+1\n",
        "print(d)\n"
      ],
      "metadata": {
        "colab": {
          "base_uri": "https://localhost:8080/"
        },
        "id": "Z2ckbxl8EDBw",
        "outputId": "9d48bca7-9a54-4279-f74c-6ad6a9b38d2d"
      },
      "execution_count": null,
      "outputs": [
        {
          "output_type": "stream",
          "name": "stdout",
          "text": [
            "{'l': 1, 'e': 1, 'a': 1, 'r': 1, 'n': 2, 'p': 1, 'y': 1, 't': 1, 'h': 1, 'o': 1}\n"
          ]
        }
      ]
    },
    {
      "cell_type": "markdown",
      "source": [
        "17.Write a Python program to get the top three items in a shop.\n"
      ],
      "metadata": {
        "id": "XKHEB4saG0hQ"
      }
    },
    {
      "cell_type": "code",
      "source": [
        "d={'item1': 45.50, 'item2':35, 'item3': 41.30, 'item4':55, 'item5': 24}\n",
        "print(\"Initial Dictionary:\")\n",
        "print(d,\"\\n\")\n",
        "v=list(d.values())\n",
        "v.sort(reverse= True)\n",
        "v=v[:3]\n",
        "\n",
        "print(\"Dictionary with 3 highest values:\")\n",
        "print(\"Keys: Values\")\n",
        "for i in v:\n",
        "    for j in d:\n",
        "      if(d[j]==i):\n",
        "        print(str(j),\":\",str(d[j]))\n",
        "\n",
        "\n",
        "\n",
        "\n",
        "\n",
        "\n"
      ],
      "metadata": {
        "colab": {
          "base_uri": "https://localhost:8080/"
        },
        "id": "79Wsv3wwYRAO",
        "outputId": "d055409b-6333-48d8-dc24-27610059e381"
      },
      "execution_count": null,
      "outputs": [
        {
          "output_type": "stream",
          "name": "stdout",
          "text": [
            "Initial Dictionary:\n",
            "{'item1': 45.5, 'item2': 35, 'item3': 41.3, 'item4': 55, 'item5': 24} \n",
            "\n",
            "Dictionary with 3 highest values:\n",
            "Keys: Values\n",
            "item2 : 35\n",
            "item5 : 24\n"
          ]
        }
      ]
    }
  ]
}