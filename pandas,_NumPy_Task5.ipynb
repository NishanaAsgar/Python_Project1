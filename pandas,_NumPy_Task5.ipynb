{
  "cells": [
    {
      "cell_type": "markdown",
      "metadata": {
        "id": "tADJC34bUOGj"
      },
      "source": [
        "# **NUMPY**"
      ]
    },
    {
      "cell_type": "markdown",
      "metadata": {
        "id": "cEmSLaxTUUew"
      },
      "source": [
        "1. How to extract all odd numbers from arr?"
      ]
    },
    {
      "cell_type": "code",
      "execution_count": null,
      "metadata": {
        "colab": {
          "base_uri": "https://localhost:8080/"
        },
        "id": "NDxyXHxXUWa4",
        "outputId": "7c98c1f0-d2b4-4972-e148-d447d92d8bcb"
      },
      "outputs": [
        {
          "data": {
            "text/plain": [
              "array([1, 3, 5, 7, 9])"
            ]
          },
          "execution_count": 6,
          "metadata": {},
          "output_type": "execute_result"
        }
      ],
      "source": [
        "import numpy as np\n",
        "arr = np.array([0, 1, 2, 3, 4, 5, 6, 7, 8, 9])\n",
        "arr=arr[arr%2==1]\n",
        "arr"
      ]
    },
    {
      "cell_type": "markdown",
      "metadata": {
        "id": "8EIgv1LwVQL8"
      },
      "source": [
        "2. Replace all odd numbers in arr with -1 without changing"
      ]
    },
    {
      "cell_type": "code",
      "execution_count": null,
      "metadata": {
        "colab": {
          "base_uri": "https://localhost:8080/"
        },
        "id": "T8CAaT32VRFt",
        "outputId": "c36d9dd8-d89d-4974-f7f9-0fabe702870d"
      },
      "outputs": [
        {
          "data": {
            "text/plain": [
              "array([ 0, -1,  2, -1,  4, -1,  6, -1,  8, -1])"
            ]
          },
          "execution_count": 10,
          "metadata": {},
          "output_type": "execute_result"
        }
      ],
      "source": [
        "import numpy as np\n",
        "arr=np.array([0,1,2,3,4,5,6,7,8,9])\n",
        "arr[np.where(arr%2==1)]=-1\n",
        "arr"
      ]
    },
    {
      "cell_type": "markdown",
      "metadata": {
        "id": "bLs22gzeZpux"
      },
      "source": [
        "3. Convert a 1D array to a 2D array with 2 rows"
      ]
    },
    {
      "cell_type": "code",
      "execution_count": null,
      "metadata": {
        "colab": {
          "base_uri": "https://localhost:8080/"
        },
        "id": "m8AsJnPCZq79",
        "outputId": "9e48270c-6538-4e33-e770-2a5e2ddd3ab2"
      },
      "outputs": [
        {
          "name": "stdout",
          "output_type": "stream",
          "text": [
            "[[0 1 2 3 4]\n",
            " [5 6 7 8 9]]\n"
          ]
        }
      ],
      "source": [
        "import numpy as np\n",
        "arr=np.array([0,1,2,3,4,5,6,7,8,9])\n",
        "newarr=arr.reshape(2,5)\n",
        "print(newarr)"
      ]
    },
    {
      "cell_type": "markdown",
      "metadata": {
        "id": "rZflxA2piWud"
      },
      "source": [
        "4.Stack arrays a and b vertically"
      ]
    },
    {
      "cell_type": "code",
      "execution_count": null,
      "metadata": {
        "colab": {
          "base_uri": "https://localhost:8080/"
        },
        "id": "YkLZhmcvi9IU",
        "outputId": "d9fc24a2-bcd1-419a-a228-e029c7622010"
      },
      "outputs": [
        {
          "name": "stdout",
          "output_type": "stream",
          "text": [
            "[[0 1 2 3 4]\n",
            " [5 6 7 8 9]\n",
            " [1 1 1 1 1]\n",
            " [1 1 1 1 1]]\n"
          ]
        }
      ],
      "source": [
        "import numpy as np\n",
        "a = np.arange(10).reshape(2,-1)\n",
        "b = np.repeat(1, 10).reshape(2,-1)\n",
        "\n",
        "c=np.vstack((a,b))\n",
        "print(c)"
      ]
    },
    {
      "cell_type": "markdown",
      "metadata": {
        "id": "1bVioqeqlT4g"
      },
      "source": [
        "5. Stack the arrays a and b horizontally."
      ]
    },
    {
      "cell_type": "code",
      "execution_count": null,
      "metadata": {
        "colab": {
          "base_uri": "https://localhost:8080/"
        },
        "id": "ZfEXL1JnlVQq",
        "outputId": "637fa842-889b-474e-98fc-9f17570a975a"
      },
      "outputs": [
        {
          "name": "stdout",
          "output_type": "stream",
          "text": [
            "[[0 1 2 3 4 1 1 1 1 1]\n",
            " [5 6 7 8 9 1 1 1 1 1]]\n"
          ]
        }
      ],
      "source": [
        "import numpy as np\n",
        "a = np.arange(10).reshape(2,-1)\n",
        "b = np.repeat(1, 10).reshape(2,-1)\n",
        "c=np.hstack((a,b))\n",
        "print(c)"
      ]
    },
    {
      "cell_type": "markdown",
      "metadata": {
        "id": "VfbrwmZxn7lJ"
      },
      "source": [
        "6.How to get the common items between two python numpy arrays?"
      ]
    },
    {
      "cell_type": "code",
      "execution_count": null,
      "metadata": {
        "colab": {
          "base_uri": "https://localhost:8080/"
        },
        "id": "-GfyHGwYn8oF",
        "outputId": "92d7a5f6-3d7b-4f1b-bb8b-34e06ad35866"
      },
      "outputs": [
        {
          "name": "stdout",
          "output_type": "stream",
          "text": [
            "[2 4]\n"
          ]
        }
      ],
      "source": [
        "import numpy as np\n",
        "a = np.array([1,2,3,2,3,4,3,4,5,6])\n",
        "b = np.array([7,2,10,2,7,4,9,4,9,8])\n",
        "c=np.intersect1d(a,b)\n",
        "print(c)"
      ]
    },
    {
      "cell_type": "markdown",
      "metadata": {
        "id": "f4Rijw_xsZzy"
      },
      "source": [
        "7.How to remove from one array those items that exist in another?"
      ]
    },
    {
      "cell_type": "code",
      "execution_count": null,
      "metadata": {
        "colab": {
          "base_uri": "https://localhost:8080/"
        },
        "id": "H_9Q_sbaOj8y",
        "outputId": "540288b3-bed8-4d8b-b613-f57c8cfe01de"
      },
      "outputs": [
        {
          "data": {
            "text/plain": [
              "array([1, 2, 3, 4])"
            ]
          },
          "execution_count": 7,
          "metadata": {},
          "output_type": "execute_result"
        }
      ],
      "source": [
        "import numpy as np\n",
        "\n",
        "a = np.array([1,2,3,4,5])\n",
        "b = np.array([5,6,7,8,9])\n",
        "c=np.setdiff1d(a,b)\n",
        "c"
      ]
    },
    {
      "cell_type": "markdown",
      "metadata": {
        "id": "zWMrVMmyQUnz"
      },
      "source": [
        "8. How to get the positions where elements of two arrays match?"
      ]
    },
    {
      "cell_type": "code",
      "execution_count": null,
      "metadata": {
        "colab": {
          "base_uri": "https://localhost:8080/"
        },
        "id": "xKOime4TQVyD",
        "outputId": "2a464f31-4712-4e09-dbcc-48af69cf94c0"
      },
      "outputs": [
        {
          "data": {
            "text/plain": [
              "(array([1, 3, 5, 7]),)"
            ]
          },
          "execution_count": 11,
          "metadata": {},
          "output_type": "execute_result"
        }
      ],
      "source": [
        "import numpy as np\n",
        "a = np.array([1,2,3,2,3,4,3,4,5,6])\n",
        "b = np.array([7,2,10,2,7,4,9,4,9,8])\n",
        "c=np.where(a==b)\n",
        "c"
      ]
    },
    {
      "cell_type": "markdown",
      "metadata": {
        "id": "s1st49doSOsK"
      },
      "source": [
        "9. How to extract all numbers between a given range from a numpy array?Get all items between 5 and 10 from a"
      ]
    },
    {
      "cell_type": "code",
      "execution_count": null,
      "metadata": {
        "colab": {
          "base_uri": "https://localhost:8080/"
        },
        "id": "s0QO0twjfzr9",
        "outputId": "9b87548c-ab62-4ec6-896f-34373ddf8748"
      },
      "outputs": [
        {
          "name": "stdout",
          "output_type": "stream",
          "text": [
            "Resultant array: (array([5, 7, 8]),)\n"
          ]
        }
      ],
      "source": [
        "import numpy as np\n",
        "\n",
        "ini_array = np.array([1, 2, 3, 45, 4, 7, 810, 9, 6])\n",
        "result = np.where(np.logical_and(ini_array >= 6, ini_array <= 10))\n",
        "print(\"Resultant array:\", result)"
      ]
    },
    {
      "cell_type": "markdown",
      "metadata": {
        "id": "TurC6L5pf24n"
      },
      "source": [
        "# ***PANDAS***"
      ]
    },
    {
      "cell_type": "markdown",
      "metadata": {
        "id": "heyEEGmZf71v"
      },
      "source": [
        "***Pandas Data Series***"
      ]
    },
    {
      "cell_type": "markdown",
      "metadata": {
        "id": "bhWqBGLpgSqI"
      },
      "source": [
        "1. Write a Pandas program to convert a dictionary to a Pandas series."
      ]
    },
    {
      "cell_type": "code",
      "execution_count": null,
      "metadata": {
        "colab": {
          "base_uri": "https://localhost:8080/"
        },
        "id": "Y3H6COwVgXK2",
        "outputId": "59c72718-d70f-4cd4-98ec-9d81e46a7449"
      },
      "outputs": [
        {
          "data": {
            "text/plain": [
              "a    100\n",
              "b    200\n",
              "c    300\n",
              "d    400\n",
              "e    800\n",
              "dtype: int64"
            ]
          },
          "execution_count": 5,
          "metadata": {},
          "output_type": "execute_result"
        }
      ],
      "source": [
        "import pandas as pd\n",
        "d={'a': 100, 'b': 200, 'c': 300, 'd': 400, 'e': 800}\n",
        "s=pd.Series(d)\n",
        "s"
      ]
    },
    {
      "cell_type": "markdown",
      "metadata": {
        "id": "Y_unU3vuiI1A"
      },
      "source": [
        "2. Write a Pandas program to convert a NumPy array to a Pandas series."
      ]
    },
    {
      "cell_type": "code",
      "execution_count": null,
      "metadata": {
        "colab": {
          "base_uri": "https://localhost:8080/"
        },
        "id": "UBtRjWGYiJ6Z",
        "outputId": "8bb502ca-a18f-4980-9045-2d4e1372b91b"
      },
      "outputs": [
        {
          "data": {
            "text/plain": [
              "0    10\n",
              "1    20\n",
              "2    30\n",
              "3    40\n",
              "4    50\n",
              "dtype: int64"
            ]
          },
          "execution_count": 11,
          "metadata": {},
          "output_type": "execute_result"
        }
      ],
      "source": [
        "import pandas as pd\n",
        "a=[10,20,30,40,50]\n",
        "myvar = pd.Series(a)\n",
        "myvar\n"
      ]
    },
    {
      "cell_type": "markdown",
      "metadata": {
        "id": "rUJuEdh5jYNK"
      },
      "source": [
        "3. Write a Pandas program to change the data type of given a column or a Series."
      ]
    },
    {
      "cell_type": "code",
      "execution_count": null,
      "metadata": {
        "colab": {
          "base_uri": "https://localhost:8080/"
        },
        "id": "A__-gZ6fk448",
        "outputId": "0c642e3f-6354-457a-83f1-9e459862191a"
      },
      "outputs": [
        {
          "name": "stdout",
          "output_type": "stream",
          "text": [
            "orginal series:\n",
            "0       100\n",
            "1       200\n",
            "2    python\n",
            "3    300.12\n",
            "4       400\n",
            "dtype: object\n",
            "new series:\n",
            "0    100.00\n",
            "1    200.00\n",
            "2       NaN\n",
            "3    300.12\n",
            "4    400.00\n",
            "dtype: float64\n"
          ]
        }
      ],
      "source": [
        "import pandas as pd\n",
        "s1=pd.Series([\"100\",\"200\",\"python\",\"300.12\",\"400\" ])\n",
        "print(\"orginal series:\")\n",
        "print(s1)\n",
        "s2=pd.to_numeric(s1,errors='coerce')\n",
        "print(\"new series:\")\n",
        "print(s2)\n"
      ]
    },
    {
      "cell_type": "markdown",
      "metadata": {
        "id": "H5cuhNZLFHoX"
      },
      "source": [
        "4. Write a Pandas program to convert the first column of a DataFrame as a Series."
      ]
    },
    {
      "cell_type": "code",
      "execution_count": null,
      "metadata": {
        "colab": {
          "base_uri": "https://localhost:8080/"
        },
        "id": "Qb38nvOmHRvl",
        "outputId": "d0b3ae64-79d8-42fe-f4e6-e51a88c8710f"
      },
      "outputs": [
        {
          "name": "stdout",
          "output_type": "stream",
          "text": [
            "dataframe:\n",
            "   col1  col2  col3\n",
            "a     1     4     7\n",
            "b     2     5     5\n",
            "c     3     6     8\n",
            "d     4     9    12\n",
            "e     7     5     1\n",
            "f    11     0    11\n",
            "first column of df:\n",
            "a     1\n",
            "b     2\n",
            "c     3\n",
            "d     4\n",
            "e     7\n",
            "f    11\n",
            "Name: col1, dtype: int64\n",
            "type of 1st column:\n"
          ]
        },
        {
          "data": {
            "text/plain": [
              "pandas.core.series.Series"
            ]
          },
          "execution_count": 22,
          "metadata": {},
          "output_type": "execute_result"
        }
      ],
      "source": [
        "import pandas as pd\n",
        "data={\"col1\":[1,2,3,4,7,11],\n",
        "      \"col2\":[4,5,6,9,5,0],\n",
        "      \"col3\":[7,5,8,12,1,11]}\n",
        "df=pd.DataFrame(data,index=[\"a\",\"b\",\"c\",\"d\",\"e\",\"f\"])\n",
        "print(\"dataframe:\")\n",
        "print(df)\n",
        "s=df[\"col1\"]\n",
        "print(\"first column of df:\")\n",
        "print(s)\n",
        "print(\"type of 1st column:\")\n",
        "type(s)"
      ]
    },
    {
      "cell_type": "markdown",
      "metadata": {
        "id": "9QaNcAgCLYUs"
      },
      "source": [
        "5. Write a Pandas program to convert a given Series to an array."
      ]
    },
    {
      "cell_type": "code",
      "execution_count": null,
      "metadata": {
        "colab": {
          "base_uri": "https://localhost:8080/"
        },
        "id": "tq7ZnK10LZmw",
        "outputId": "fe2aec84-3308-41f8-aed2-6313b8b2a3f8"
      },
      "outputs": [
        {
          "data": {
            "text/plain": [
              "array([ 1,  2,  5,  6,  9, 12, 15])"
            ]
          },
          "execution_count": 24,
          "metadata": {},
          "output_type": "execute_result"
        }
      ],
      "source": [
        "import pandas as pd\n",
        "import numpy as np\n",
        "\n",
        "s=[1, 2, 5, 6, 9, 12, 15]\n",
        "# Define a Pandas Series\n",
        "x = pd.Series(s)\n",
        "\n",
        "# Convert the Series to a NumPy array\n",
        "new_array = x.to_numpy()\n",
        "\n",
        "# View the NumPy array\n",
        "new_array"
      ]
    },
    {
      "cell_type": "markdown",
      "metadata": {
        "id": "dqlHbcNqM8U3"
      },
      "source": [
        "6 Write a Pandas program to convert Series of lists to one Series"
      ]
    },
    {
      "cell_type": "code",
      "execution_count": null,
      "metadata": {
        "colab": {
          "base_uri": "https://localhost:8080/"
        },
        "id": "6e0lAdG0M9aw",
        "outputId": "4756a955-25dc-437e-f451-b7ba906bef05"
      },
      "outputs": [
        {
          "name": "stdout",
          "output_type": "stream",
          "text": [
            "orginal series\n",
            "0    [red, green, white]\n",
            "1           [red, black]\n",
            "2               [yellow]\n",
            "dtype: object\n",
            "0       red\n",
            "1     green\n",
            "2     white\n",
            "3       red\n",
            "4     black\n",
            "5    yellow\n",
            "dtype: object\n"
          ]
        }
      ],
      "source": [
        "import pandas as pd\n",
        "s1=pd.Series([[\"red\",\"green\",\"white\"],[\"red\",\"black\"],[\"yellow\"]])\n",
        "print(\"orginal series\")\n",
        "print(s1)\n",
        "s2=s1.explode().reset_index(drop=True)\n",
        "print(s2)"
      ]
    },
    {
      "cell_type": "markdown",
      "metadata": {
        "id": "RMUe0Saz7h6P"
      },
      "source": [
        "7.Write a Pandas program to sort a given Series."
      ]
    },
    {
      "cell_type": "code",
      "execution_count": null,
      "metadata": {
        "colab": {
          "base_uri": "https://localhost:8080/"
        },
        "id": "eSCVCvwS7i2w",
        "outputId": "7e97c1ed-780b-4825-a3a2-f054582b0e5c"
      },
      "outputs": [
        {
          "name": "stdout",
          "output_type": "stream",
          "text": [
            "orginal series:\n",
            "0       100\n",
            "1       200\n",
            "2    python\n",
            "3    300.12\n",
            "4       400\n",
            "dtype: object\n",
            "0       100\n",
            "1       200\n",
            "3    300.12\n",
            "4       400\n",
            "2    python\n",
            "dtype: object\n"
          ]
        }
      ],
      "source": [
        "import pandas as pd\n",
        "s1=pd.Series([\"100\",\"200\",\"python\",\"300.12\",\"400\" ])\n",
        "print(\"orginal series:\")\n",
        "print(s1)\n",
        "s2=s1.sort_values(ascending=True)\n",
        "print(s2)"
      ]
    },
    {
      "cell_type": "markdown",
      "metadata": {
        "id": "xjAEjaYQFk6k"
      },
      "source": [
        "# ***Pandas DataFrame***"
      ]
    },
    {
      "cell_type": "markdown",
      "metadata": {
        "id": "xc2Iqcy7FnXD"
      },
      "source": [
        "1.Write a Pandas program to create a dataframe from a dictionary and display it."
      ]
    },
    {
      "cell_type": "code",
      "execution_count": null,
      "metadata": {
        "colab": {
          "base_uri": "https://localhost:8080/",
          "height": 206
        },
        "id": "UP-NmlobFyOn",
        "outputId": "be93a2c6-72d3-43a4-ce58-76b1ea8ee423"
      },
      "outputs": [
        {
          "data": {
            "text/html": [
              "\n",
              "  <div id=\"df-c4e047bf-1621-4963-a7ce-9656696345da\" class=\"colab-df-container\">\n",
              "    <div>\n",
              "<style scoped>\n",
              "    .dataframe tbody tr th:only-of-type {\n",
              "        vertical-align: middle;\n",
              "    }\n",
              "\n",
              "    .dataframe tbody tr th {\n",
              "        vertical-align: top;\n",
              "    }\n",
              "\n",
              "    .dataframe thead th {\n",
              "        text-align: right;\n",
              "    }\n",
              "</style>\n",
              "<table border=\"1\" class=\"dataframe\">\n",
              "  <thead>\n",
              "    <tr style=\"text-align: right;\">\n",
              "      <th></th>\n",
              "      <th>X</th>\n",
              "      <th>Y</th>\n",
              "      <th>Z</th>\n",
              "    </tr>\n",
              "  </thead>\n",
              "  <tbody>\n",
              "    <tr>\n",
              "      <th>0</th>\n",
              "      <td>78</td>\n",
              "      <td>84</td>\n",
              "      <td>86</td>\n",
              "    </tr>\n",
              "    <tr>\n",
              "      <th>1</th>\n",
              "      <td>85</td>\n",
              "      <td>94</td>\n",
              "      <td>97</td>\n",
              "    </tr>\n",
              "    <tr>\n",
              "      <th>2</th>\n",
              "      <td>96</td>\n",
              "      <td>89</td>\n",
              "      <td>96</td>\n",
              "    </tr>\n",
              "    <tr>\n",
              "      <th>3</th>\n",
              "      <td>80</td>\n",
              "      <td>83</td>\n",
              "      <td>72</td>\n",
              "    </tr>\n",
              "    <tr>\n",
              "      <th>4</th>\n",
              "      <td>86</td>\n",
              "      <td>86</td>\n",
              "      <td>83</td>\n",
              "    </tr>\n",
              "  </tbody>\n",
              "</table>\n",
              "</div>\n",
              "    <div class=\"colab-df-buttons\">\n",
              "\n",
              "  <div class=\"colab-df-container\">\n",
              "    <button class=\"colab-df-convert\" onclick=\"convertToInteractive('df-c4e047bf-1621-4963-a7ce-9656696345da')\"\n",
              "            title=\"Convert this dataframe to an interactive table.\"\n",
              "            style=\"display:none;\">\n",
              "\n",
              "  <svg xmlns=\"http://www.w3.org/2000/svg\" height=\"24px\" viewBox=\"0 -960 960 960\">\n",
              "    <path d=\"M120-120v-720h720v720H120Zm60-500h600v-160H180v160Zm220 220h160v-160H400v160Zm0 220h160v-160H400v160ZM180-400h160v-160H180v160Zm440 0h160v-160H620v160ZM180-180h160v-160H180v160Zm440 0h160v-160H620v160Z\"/>\n",
              "  </svg>\n",
              "    </button>\n",
              "\n",
              "  <style>\n",
              "    .colab-df-container {\n",
              "      display:flex;\n",
              "      gap: 12px;\n",
              "    }\n",
              "\n",
              "    .colab-df-convert {\n",
              "      background-color: #E8F0FE;\n",
              "      border: none;\n",
              "      border-radius: 50%;\n",
              "      cursor: pointer;\n",
              "      display: none;\n",
              "      fill: #1967D2;\n",
              "      height: 32px;\n",
              "      padding: 0 0 0 0;\n",
              "      width: 32px;\n",
              "    }\n",
              "\n",
              "    .colab-df-convert:hover {\n",
              "      background-color: #E2EBFA;\n",
              "      box-shadow: 0px 1px 2px rgba(60, 64, 67, 0.3), 0px 1px 3px 1px rgba(60, 64, 67, 0.15);\n",
              "      fill: #174EA6;\n",
              "    }\n",
              "\n",
              "    .colab-df-buttons div {\n",
              "      margin-bottom: 4px;\n",
              "    }\n",
              "\n",
              "    [theme=dark] .colab-df-convert {\n",
              "      background-color: #3B4455;\n",
              "      fill: #D2E3FC;\n",
              "    }\n",
              "\n",
              "    [theme=dark] .colab-df-convert:hover {\n",
              "      background-color: #434B5C;\n",
              "      box-shadow: 0px 1px 3px 1px rgba(0, 0, 0, 0.15);\n",
              "      filter: drop-shadow(0px 1px 2px rgba(0, 0, 0, 0.3));\n",
              "      fill: #FFFFFF;\n",
              "    }\n",
              "  </style>\n",
              "\n",
              "    <script>\n",
              "      const buttonEl =\n",
              "        document.querySelector('#df-c4e047bf-1621-4963-a7ce-9656696345da button.colab-df-convert');\n",
              "      buttonEl.style.display =\n",
              "        google.colab.kernel.accessAllowed ? 'block' : 'none';\n",
              "\n",
              "      async function convertToInteractive(key) {\n",
              "        const element = document.querySelector('#df-c4e047bf-1621-4963-a7ce-9656696345da');\n",
              "        const dataTable =\n",
              "          await google.colab.kernel.invokeFunction('convertToInteractive',\n",
              "                                                    [key], {});\n",
              "        if (!dataTable) return;\n",
              "\n",
              "        const docLinkHtml = 'Like what you see? Visit the ' +\n",
              "          '<a target=\"_blank\" href=https://colab.research.google.com/notebooks/data_table.ipynb>data table notebook</a>'\n",
              "          + ' to learn more about interactive tables.';\n",
              "        element.innerHTML = '';\n",
              "        dataTable['output_type'] = 'display_data';\n",
              "        await google.colab.output.renderOutput(dataTable, element);\n",
              "        const docLink = document.createElement('div');\n",
              "        docLink.innerHTML = docLinkHtml;\n",
              "        element.appendChild(docLink);\n",
              "      }\n",
              "    </script>\n",
              "  </div>\n",
              "\n",
              "\n",
              "<div id=\"df-6d0c8540-6c6a-442c-af42-ec2b1691c2d3\">\n",
              "  <button class=\"colab-df-quickchart\" onclick=\"quickchart('df-6d0c8540-6c6a-442c-af42-ec2b1691c2d3')\"\n",
              "            title=\"Suggest charts\"\n",
              "            style=\"display:none;\">\n",
              "\n",
              "<svg xmlns=\"http://www.w3.org/2000/svg\" height=\"24px\"viewBox=\"0 0 24 24\"\n",
              "     width=\"24px\">\n",
              "    <g>\n",
              "        <path d=\"M19 3H5c-1.1 0-2 .9-2 2v14c0 1.1.9 2 2 2h14c1.1 0 2-.9 2-2V5c0-1.1-.9-2-2-2zM9 17H7v-7h2v7zm4 0h-2V7h2v10zm4 0h-2v-4h2v4z\"/>\n",
              "    </g>\n",
              "</svg>\n",
              "  </button>\n",
              "\n",
              "<style>\n",
              "  .colab-df-quickchart {\n",
              "      --bg-color: #E8F0FE;\n",
              "      --fill-color: #1967D2;\n",
              "      --hover-bg-color: #E2EBFA;\n",
              "      --hover-fill-color: #174EA6;\n",
              "      --disabled-fill-color: #AAA;\n",
              "      --disabled-bg-color: #DDD;\n",
              "  }\n",
              "\n",
              "  [theme=dark] .colab-df-quickchart {\n",
              "      --bg-color: #3B4455;\n",
              "      --fill-color: #D2E3FC;\n",
              "      --hover-bg-color: #434B5C;\n",
              "      --hover-fill-color: #FFFFFF;\n",
              "      --disabled-bg-color: #3B4455;\n",
              "      --disabled-fill-color: #666;\n",
              "  }\n",
              "\n",
              "  .colab-df-quickchart {\n",
              "    background-color: var(--bg-color);\n",
              "    border: none;\n",
              "    border-radius: 50%;\n",
              "    cursor: pointer;\n",
              "    display: none;\n",
              "    fill: var(--fill-color);\n",
              "    height: 32px;\n",
              "    padding: 0;\n",
              "    width: 32px;\n",
              "  }\n",
              "\n",
              "  .colab-df-quickchart:hover {\n",
              "    background-color: var(--hover-bg-color);\n",
              "    box-shadow: 0 1px 2px rgba(60, 64, 67, 0.3), 0 1px 3px 1px rgba(60, 64, 67, 0.15);\n",
              "    fill: var(--button-hover-fill-color);\n",
              "  }\n",
              "\n",
              "  .colab-df-quickchart-complete:disabled,\n",
              "  .colab-df-quickchart-complete:disabled:hover {\n",
              "    background-color: var(--disabled-bg-color);\n",
              "    fill: var(--disabled-fill-color);\n",
              "    box-shadow: none;\n",
              "  }\n",
              "\n",
              "  .colab-df-spinner {\n",
              "    border: 2px solid var(--fill-color);\n",
              "    border-color: transparent;\n",
              "    border-bottom-color: var(--fill-color);\n",
              "    animation:\n",
              "      spin 1s steps(1) infinite;\n",
              "  }\n",
              "\n",
              "  @keyframes spin {\n",
              "    0% {\n",
              "      border-color: transparent;\n",
              "      border-bottom-color: var(--fill-color);\n",
              "      border-left-color: var(--fill-color);\n",
              "    }\n",
              "    20% {\n",
              "      border-color: transparent;\n",
              "      border-left-color: var(--fill-color);\n",
              "      border-top-color: var(--fill-color);\n",
              "    }\n",
              "    30% {\n",
              "      border-color: transparent;\n",
              "      border-left-color: var(--fill-color);\n",
              "      border-top-color: var(--fill-color);\n",
              "      border-right-color: var(--fill-color);\n",
              "    }\n",
              "    40% {\n",
              "      border-color: transparent;\n",
              "      border-right-color: var(--fill-color);\n",
              "      border-top-color: var(--fill-color);\n",
              "    }\n",
              "    60% {\n",
              "      border-color: transparent;\n",
              "      border-right-color: var(--fill-color);\n",
              "    }\n",
              "    80% {\n",
              "      border-color: transparent;\n",
              "      border-right-color: var(--fill-color);\n",
              "      border-bottom-color: var(--fill-color);\n",
              "    }\n",
              "    90% {\n",
              "      border-color: transparent;\n",
              "      border-bottom-color: var(--fill-color);\n",
              "    }\n",
              "  }\n",
              "</style>\n",
              "\n",
              "  <script>\n",
              "    async function quickchart(key) {\n",
              "      const quickchartButtonEl =\n",
              "        document.querySelector('#' + key + ' button');\n",
              "      quickchartButtonEl.disabled = true;  // To prevent multiple clicks.\n",
              "      quickchartButtonEl.classList.add('colab-df-spinner');\n",
              "      try {\n",
              "        const charts = await google.colab.kernel.invokeFunction(\n",
              "            'suggestCharts', [key], {});\n",
              "      } catch (error) {\n",
              "        console.error('Error during call to suggestCharts:', error);\n",
              "      }\n",
              "      quickchartButtonEl.classList.remove('colab-df-spinner');\n",
              "      quickchartButtonEl.classList.add('colab-df-quickchart-complete');\n",
              "    }\n",
              "    (() => {\n",
              "      let quickchartButtonEl =\n",
              "        document.querySelector('#df-6d0c8540-6c6a-442c-af42-ec2b1691c2d3 button');\n",
              "      quickchartButtonEl.style.display =\n",
              "        google.colab.kernel.accessAllowed ? 'block' : 'none';\n",
              "    })();\n",
              "  </script>\n",
              "</div>\n",
              "\n",
              "  <div id=\"id_987ae509-bb57-4a37-8851-ce0c4b14604e\">\n",
              "    <style>\n",
              "      .colab-df-generate {\n",
              "        background-color: #E8F0FE;\n",
              "        border: none;\n",
              "        border-radius: 50%;\n",
              "        cursor: pointer;\n",
              "        display: none;\n",
              "        fill: #1967D2;\n",
              "        height: 32px;\n",
              "        padding: 0 0 0 0;\n",
              "        width: 32px;\n",
              "      }\n",
              "\n",
              "      .colab-df-generate:hover {\n",
              "        background-color: #E2EBFA;\n",
              "        box-shadow: 0px 1px 2px rgba(60, 64, 67, 0.3), 0px 1px 3px 1px rgba(60, 64, 67, 0.15);\n",
              "        fill: #174EA6;\n",
              "      }\n",
              "\n",
              "      [theme=dark] .colab-df-generate {\n",
              "        background-color: #3B4455;\n",
              "        fill: #D2E3FC;\n",
              "      }\n",
              "\n",
              "      [theme=dark] .colab-df-generate:hover {\n",
              "        background-color: #434B5C;\n",
              "        box-shadow: 0px 1px 3px 1px rgba(0, 0, 0, 0.15);\n",
              "        filter: drop-shadow(0px 1px 2px rgba(0, 0, 0, 0.3));\n",
              "        fill: #FFFFFF;\n",
              "      }\n",
              "    </style>\n",
              "    <button class=\"colab-df-generate\" onclick=\"generateWithVariable('df')\"\n",
              "            title=\"Generate code using this dataframe.\"\n",
              "            style=\"display:none;\">\n",
              "\n",
              "  <svg xmlns=\"http://www.w3.org/2000/svg\" height=\"24px\"viewBox=\"0 0 24 24\"\n",
              "       width=\"24px\">\n",
              "    <path d=\"M7,19H8.4L18.45,9,17,7.55,7,17.6ZM5,21V16.75L18.45,3.32a2,2,0,0,1,2.83,0l1.4,1.43a1.91,1.91,0,0,1,.58,1.4,1.91,1.91,0,0,1-.58,1.4L9.25,21ZM18.45,9,17,7.55Zm-12,3A5.31,5.31,0,0,0,4.9,8.1,5.31,5.31,0,0,0,1,6.5,5.31,5.31,0,0,0,4.9,4.9,5.31,5.31,0,0,0,6.5,1,5.31,5.31,0,0,0,8.1,4.9,5.31,5.31,0,0,0,12,6.5,5.46,5.46,0,0,0,6.5,12Z\"/>\n",
              "  </svg>\n",
              "    </button>\n",
              "    <script>\n",
              "      (() => {\n",
              "      const buttonEl =\n",
              "        document.querySelector('#id_987ae509-bb57-4a37-8851-ce0c4b14604e button.colab-df-generate');\n",
              "      buttonEl.style.display =\n",
              "        google.colab.kernel.accessAllowed ? 'block' : 'none';\n",
              "\n",
              "      buttonEl.onclick = () => {\n",
              "        google.colab.notebook.generateWithVariable('df');\n",
              "      }\n",
              "      })();\n",
              "    </script>\n",
              "  </div>\n",
              "\n",
              "    </div>\n",
              "  </div>\n"
            ],
            "text/plain": [
              "    X   Y   Z\n",
              "0  78  84  86\n",
              "1  85  94  97\n",
              "2  96  89  96\n",
              "3  80  83  72\n",
              "4  86  86  83"
            ]
          },
          "execution_count": 9,
          "metadata": {},
          "output_type": "execute_result"
        }
      ],
      "source": [
        "import pandas as pd\n",
        "\n",
        "data={'X':[78,85,96,80,86], 'Y':[84,94,89,83,86],'Z':[86,97,96,72,83]}\n",
        "df=pd.DataFrame(data)\n",
        "df"
      ]
    },
    {
      "cell_type": "markdown",
      "metadata": {
        "id": "FhVM9d1iGaXv"
      },
      "source": [
        "2. Write a Pandas program to create and display a DataFrame from a specified dictionary data which has the index labels."
      ]
    },
    {
      "cell_type": "code",
      "execution_count": null,
      "metadata": {
        "colab": {
          "base_uri": "https://localhost:8080/",
          "height": 363
        },
        "id": "Ge9Aa8mIHUcC",
        "outputId": "f0a2aec8-99af-4c9e-f8ad-f3149b630242"
      },
      "outputs": [
        {
          "data": {
            "text/html": [
              "\n",
              "  <div id=\"df-33f55cee-5b5d-4695-b4d8-22b2404e35b1\" class=\"colab-df-container\">\n",
              "    <div>\n",
              "<style scoped>\n",
              "    .dataframe tbody tr th:only-of-type {\n",
              "        vertical-align: middle;\n",
              "    }\n",
              "\n",
              "    .dataframe tbody tr th {\n",
              "        vertical-align: top;\n",
              "    }\n",
              "\n",
              "    .dataframe thead th {\n",
              "        text-align: right;\n",
              "    }\n",
              "</style>\n",
              "<table border=\"1\" class=\"dataframe\">\n",
              "  <thead>\n",
              "    <tr style=\"text-align: right;\">\n",
              "      <th></th>\n",
              "      <th>attempts</th>\n",
              "      <th>name</th>\n",
              "      <th>qualify</th>\n",
              "      <th>score</th>\n",
              "    </tr>\n",
              "  </thead>\n",
              "  <tbody>\n",
              "    <tr>\n",
              "      <th>a</th>\n",
              "      <td>1</td>\n",
              "      <td>Anastasia</td>\n",
              "      <td>yes</td>\n",
              "      <td>12.5</td>\n",
              "    </tr>\n",
              "    <tr>\n",
              "      <th>b</th>\n",
              "      <td>3</td>\n",
              "      <td>Dima</td>\n",
              "      <td>no</td>\n",
              "      <td>9</td>\n",
              "    </tr>\n",
              "    <tr>\n",
              "      <th>c</th>\n",
              "      <td>2</td>\n",
              "      <td>Katherine</td>\n",
              "      <td>yes</td>\n",
              "      <td>16.5</td>\n",
              "    </tr>\n",
              "    <tr>\n",
              "      <th>d</th>\n",
              "      <td>3</td>\n",
              "      <td>James</td>\n",
              "      <td>no</td>\n",
              "      <td>np.nan</td>\n",
              "    </tr>\n",
              "    <tr>\n",
              "      <th>e</th>\n",
              "      <td>2</td>\n",
              "      <td>Emily</td>\n",
              "      <td>no</td>\n",
              "      <td>9</td>\n",
              "    </tr>\n",
              "    <tr>\n",
              "      <th>f</th>\n",
              "      <td>3</td>\n",
              "      <td>Michael</td>\n",
              "      <td>yes</td>\n",
              "      <td>20</td>\n",
              "    </tr>\n",
              "    <tr>\n",
              "      <th>g</th>\n",
              "      <td>1</td>\n",
              "      <td>Matthew</td>\n",
              "      <td>yes</td>\n",
              "      <td>14.5</td>\n",
              "    </tr>\n",
              "    <tr>\n",
              "      <th>h</th>\n",
              "      <td>1</td>\n",
              "      <td>Laura</td>\n",
              "      <td>no</td>\n",
              "      <td>np.nan</td>\n",
              "    </tr>\n",
              "    <tr>\n",
              "      <th>i</th>\n",
              "      <td>2</td>\n",
              "      <td>Kevin</td>\n",
              "      <td>no</td>\n",
              "      <td>8</td>\n",
              "    </tr>\n",
              "    <tr>\n",
              "      <th>j</th>\n",
              "      <td>1</td>\n",
              "      <td>Jonas</td>\n",
              "      <td>yes</td>\n",
              "      <td>19</td>\n",
              "    </tr>\n",
              "  </tbody>\n",
              "</table>\n",
              "</div>\n",
              "    <div class=\"colab-df-buttons\">\n",
              "\n",
              "  <div class=\"colab-df-container\">\n",
              "    <button class=\"colab-df-convert\" onclick=\"convertToInteractive('df-33f55cee-5b5d-4695-b4d8-22b2404e35b1')\"\n",
              "            title=\"Convert this dataframe to an interactive table.\"\n",
              "            style=\"display:none;\">\n",
              "\n",
              "  <svg xmlns=\"http://www.w3.org/2000/svg\" height=\"24px\" viewBox=\"0 -960 960 960\">\n",
              "    <path d=\"M120-120v-720h720v720H120Zm60-500h600v-160H180v160Zm220 220h160v-160H400v160Zm0 220h160v-160H400v160ZM180-400h160v-160H180v160Zm440 0h160v-160H620v160ZM180-180h160v-160H180v160Zm440 0h160v-160H620v160Z\"/>\n",
              "  </svg>\n",
              "    </button>\n",
              "\n",
              "  <style>\n",
              "    .colab-df-container {\n",
              "      display:flex;\n",
              "      gap: 12px;\n",
              "    }\n",
              "\n",
              "    .colab-df-convert {\n",
              "      background-color: #E8F0FE;\n",
              "      border: none;\n",
              "      border-radius: 50%;\n",
              "      cursor: pointer;\n",
              "      display: none;\n",
              "      fill: #1967D2;\n",
              "      height: 32px;\n",
              "      padding: 0 0 0 0;\n",
              "      width: 32px;\n",
              "    }\n",
              "\n",
              "    .colab-df-convert:hover {\n",
              "      background-color: #E2EBFA;\n",
              "      box-shadow: 0px 1px 2px rgba(60, 64, 67, 0.3), 0px 1px 3px 1px rgba(60, 64, 67, 0.15);\n",
              "      fill: #174EA6;\n",
              "    }\n",
              "\n",
              "    .colab-df-buttons div {\n",
              "      margin-bottom: 4px;\n",
              "    }\n",
              "\n",
              "    [theme=dark] .colab-df-convert {\n",
              "      background-color: #3B4455;\n",
              "      fill: #D2E3FC;\n",
              "    }\n",
              "\n",
              "    [theme=dark] .colab-df-convert:hover {\n",
              "      background-color: #434B5C;\n",
              "      box-shadow: 0px 1px 3px 1px rgba(0, 0, 0, 0.15);\n",
              "      filter: drop-shadow(0px 1px 2px rgba(0, 0, 0, 0.3));\n",
              "      fill: #FFFFFF;\n",
              "    }\n",
              "  </style>\n",
              "\n",
              "    <script>\n",
              "      const buttonEl =\n",
              "        document.querySelector('#df-33f55cee-5b5d-4695-b4d8-22b2404e35b1 button.colab-df-convert');\n",
              "      buttonEl.style.display =\n",
              "        google.colab.kernel.accessAllowed ? 'block' : 'none';\n",
              "\n",
              "      async function convertToInteractive(key) {\n",
              "        const element = document.querySelector('#df-33f55cee-5b5d-4695-b4d8-22b2404e35b1');\n",
              "        const dataTable =\n",
              "          await google.colab.kernel.invokeFunction('convertToInteractive',\n",
              "                                                    [key], {});\n",
              "        if (!dataTable) return;\n",
              "\n",
              "        const docLinkHtml = 'Like what you see? Visit the ' +\n",
              "          '<a target=\"_blank\" href=https://colab.research.google.com/notebooks/data_table.ipynb>data table notebook</a>'\n",
              "          + ' to learn more about interactive tables.';\n",
              "        element.innerHTML = '';\n",
              "        dataTable['output_type'] = 'display_data';\n",
              "        await google.colab.output.renderOutput(dataTable, element);\n",
              "        const docLink = document.createElement('div');\n",
              "        docLink.innerHTML = docLinkHtml;\n",
              "        element.appendChild(docLink);\n",
              "      }\n",
              "    </script>\n",
              "  </div>\n",
              "\n",
              "\n",
              "<div id=\"df-6edc6cc5-0fe8-445d-8d7e-bec8af0417dd\">\n",
              "  <button class=\"colab-df-quickchart\" onclick=\"quickchart('df-6edc6cc5-0fe8-445d-8d7e-bec8af0417dd')\"\n",
              "            title=\"Suggest charts\"\n",
              "            style=\"display:none;\">\n",
              "\n",
              "<svg xmlns=\"http://www.w3.org/2000/svg\" height=\"24px\"viewBox=\"0 0 24 24\"\n",
              "     width=\"24px\">\n",
              "    <g>\n",
              "        <path d=\"M19 3H5c-1.1 0-2 .9-2 2v14c0 1.1.9 2 2 2h14c1.1 0 2-.9 2-2V5c0-1.1-.9-2-2-2zM9 17H7v-7h2v7zm4 0h-2V7h2v10zm4 0h-2v-4h2v4z\"/>\n",
              "    </g>\n",
              "</svg>\n",
              "  </button>\n",
              "\n",
              "<style>\n",
              "  .colab-df-quickchart {\n",
              "      --bg-color: #E8F0FE;\n",
              "      --fill-color: #1967D2;\n",
              "      --hover-bg-color: #E2EBFA;\n",
              "      --hover-fill-color: #174EA6;\n",
              "      --disabled-fill-color: #AAA;\n",
              "      --disabled-bg-color: #DDD;\n",
              "  }\n",
              "\n",
              "  [theme=dark] .colab-df-quickchart {\n",
              "      --bg-color: #3B4455;\n",
              "      --fill-color: #D2E3FC;\n",
              "      --hover-bg-color: #434B5C;\n",
              "      --hover-fill-color: #FFFFFF;\n",
              "      --disabled-bg-color: #3B4455;\n",
              "      --disabled-fill-color: #666;\n",
              "  }\n",
              "\n",
              "  .colab-df-quickchart {\n",
              "    background-color: var(--bg-color);\n",
              "    border: none;\n",
              "    border-radius: 50%;\n",
              "    cursor: pointer;\n",
              "    display: none;\n",
              "    fill: var(--fill-color);\n",
              "    height: 32px;\n",
              "    padding: 0;\n",
              "    width: 32px;\n",
              "  }\n",
              "\n",
              "  .colab-df-quickchart:hover {\n",
              "    background-color: var(--hover-bg-color);\n",
              "    box-shadow: 0 1px 2px rgba(60, 64, 67, 0.3), 0 1px 3px 1px rgba(60, 64, 67, 0.15);\n",
              "    fill: var(--button-hover-fill-color);\n",
              "  }\n",
              "\n",
              "  .colab-df-quickchart-complete:disabled,\n",
              "  .colab-df-quickchart-complete:disabled:hover {\n",
              "    background-color: var(--disabled-bg-color);\n",
              "    fill: var(--disabled-fill-color);\n",
              "    box-shadow: none;\n",
              "  }\n",
              "\n",
              "  .colab-df-spinner {\n",
              "    border: 2px solid var(--fill-color);\n",
              "    border-color: transparent;\n",
              "    border-bottom-color: var(--fill-color);\n",
              "    animation:\n",
              "      spin 1s steps(1) infinite;\n",
              "  }\n",
              "\n",
              "  @keyframes spin {\n",
              "    0% {\n",
              "      border-color: transparent;\n",
              "      border-bottom-color: var(--fill-color);\n",
              "      border-left-color: var(--fill-color);\n",
              "    }\n",
              "    20% {\n",
              "      border-color: transparent;\n",
              "      border-left-color: var(--fill-color);\n",
              "      border-top-color: var(--fill-color);\n",
              "    }\n",
              "    30% {\n",
              "      border-color: transparent;\n",
              "      border-left-color: var(--fill-color);\n",
              "      border-top-color: var(--fill-color);\n",
              "      border-right-color: var(--fill-color);\n",
              "    }\n",
              "    40% {\n",
              "      border-color: transparent;\n",
              "      border-right-color: var(--fill-color);\n",
              "      border-top-color: var(--fill-color);\n",
              "    }\n",
              "    60% {\n",
              "      border-color: transparent;\n",
              "      border-right-color: var(--fill-color);\n",
              "    }\n",
              "    80% {\n",
              "      border-color: transparent;\n",
              "      border-right-color: var(--fill-color);\n",
              "      border-bottom-color: var(--fill-color);\n",
              "    }\n",
              "    90% {\n",
              "      border-color: transparent;\n",
              "      border-bottom-color: var(--fill-color);\n",
              "    }\n",
              "  }\n",
              "</style>\n",
              "\n",
              "  <script>\n",
              "    async function quickchart(key) {\n",
              "      const quickchartButtonEl =\n",
              "        document.querySelector('#' + key + ' button');\n",
              "      quickchartButtonEl.disabled = true;  // To prevent multiple clicks.\n",
              "      quickchartButtonEl.classList.add('colab-df-spinner');\n",
              "      try {\n",
              "        const charts = await google.colab.kernel.invokeFunction(\n",
              "            'suggestCharts', [key], {});\n",
              "      } catch (error) {\n",
              "        console.error('Error during call to suggestCharts:', error);\n",
              "      }\n",
              "      quickchartButtonEl.classList.remove('colab-df-spinner');\n",
              "      quickchartButtonEl.classList.add('colab-df-quickchart-complete');\n",
              "    }\n",
              "    (() => {\n",
              "      let quickchartButtonEl =\n",
              "        document.querySelector('#df-6edc6cc5-0fe8-445d-8d7e-bec8af0417dd button');\n",
              "      quickchartButtonEl.style.display =\n",
              "        google.colab.kernel.accessAllowed ? 'block' : 'none';\n",
              "    })();\n",
              "  </script>\n",
              "</div>\n",
              "\n",
              "  <div id=\"id_c6faf0c1-3637-4fd7-afa8-1bba66a6593f\">\n",
              "    <style>\n",
              "      .colab-df-generate {\n",
              "        background-color: #E8F0FE;\n",
              "        border: none;\n",
              "        border-radius: 50%;\n",
              "        cursor: pointer;\n",
              "        display: none;\n",
              "        fill: #1967D2;\n",
              "        height: 32px;\n",
              "        padding: 0 0 0 0;\n",
              "        width: 32px;\n",
              "      }\n",
              "\n",
              "      .colab-df-generate:hover {\n",
              "        background-color: #E2EBFA;\n",
              "        box-shadow: 0px 1px 2px rgba(60, 64, 67, 0.3), 0px 1px 3px 1px rgba(60, 64, 67, 0.15);\n",
              "        fill: #174EA6;\n",
              "      }\n",
              "\n",
              "      [theme=dark] .colab-df-generate {\n",
              "        background-color: #3B4455;\n",
              "        fill: #D2E3FC;\n",
              "      }\n",
              "\n",
              "      [theme=dark] .colab-df-generate:hover {\n",
              "        background-color: #434B5C;\n",
              "        box-shadow: 0px 1px 3px 1px rgba(0, 0, 0, 0.15);\n",
              "        filter: drop-shadow(0px 1px 2px rgba(0, 0, 0, 0.3));\n",
              "        fill: #FFFFFF;\n",
              "      }\n",
              "    </style>\n",
              "    <button class=\"colab-df-generate\" onclick=\"generateWithVariable('df')\"\n",
              "            title=\"Generate code using this dataframe.\"\n",
              "            style=\"display:none;\">\n",
              "\n",
              "  <svg xmlns=\"http://www.w3.org/2000/svg\" height=\"24px\"viewBox=\"0 0 24 24\"\n",
              "       width=\"24px\">\n",
              "    <path d=\"M7,19H8.4L18.45,9,17,7.55,7,17.6ZM5,21V16.75L18.45,3.32a2,2,0,0,1,2.83,0l1.4,1.43a1.91,1.91,0,0,1,.58,1.4,1.91,1.91,0,0,1-.58,1.4L9.25,21ZM18.45,9,17,7.55Zm-12,3A5.31,5.31,0,0,0,4.9,8.1,5.31,5.31,0,0,0,1,6.5,5.31,5.31,0,0,0,4.9,4.9,5.31,5.31,0,0,0,6.5,1,5.31,5.31,0,0,0,8.1,4.9,5.31,5.31,0,0,0,12,6.5,5.46,5.46,0,0,0,6.5,12Z\"/>\n",
              "  </svg>\n",
              "    </button>\n",
              "    <script>\n",
              "      (() => {\n",
              "      const buttonEl =\n",
              "        document.querySelector('#id_c6faf0c1-3637-4fd7-afa8-1bba66a6593f button.colab-df-generate');\n",
              "      buttonEl.style.display =\n",
              "        google.colab.kernel.accessAllowed ? 'block' : 'none';\n",
              "\n",
              "      buttonEl.onclick = () => {\n",
              "        google.colab.notebook.generateWithVariable('df');\n",
              "      }\n",
              "      })();\n",
              "    </script>\n",
              "  </div>\n",
              "\n",
              "    </div>\n",
              "  </div>\n"
            ],
            "text/plain": [
              "   attempts       name qualify   score\n",
              "a         1  Anastasia     yes    12.5\n",
              "b         3       Dima      no       9\n",
              "c         2  Katherine     yes    16.5\n",
              "d         3      James      no  np.nan\n",
              "e         2      Emily      no       9\n",
              "f         3    Michael     yes      20\n",
              "g         1    Matthew     yes    14.5\n",
              "h         1      Laura      no  np.nan\n",
              "i         2      Kevin      no       8\n",
              "j         1      Jonas     yes      19"
            ]
          },
          "execution_count": 12,
          "metadata": {},
          "output_type": "execute_result"
        }
      ],
      "source": [
        "import pandas as pd\n",
        "\n",
        "data = {'attempts': [1, 3, 2, 3, 2, 3, 1, 1, 2, 1],'name': ['Anastasia', 'Dima', 'Katherine', 'James', 'Emily', 'Michael', 'Matthew', 'Laura', 'Kevin', 'Jonas'],\n",
        "'qualify': ['yes', 'no', 'yes', 'no', 'no', 'yes', 'yes', 'no', 'no', 'yes'],'score': [12.5, 9, 16.5, \"np.nan\", 9, 20, 14.5, \"np.nan\", 8, 19]}\n",
        "df=pd.DataFrame(data,index= ['a', 'b', 'c', 'd', 'e', 'f', 'g', 'h', 'i', 'j'])\n",
        "df"
      ]
    },
    {
      "cell_type": "markdown",
      "metadata": {
        "id": "bFhkB6yeUywt"
      },
      "source": [
        "3. Write a Pandas program to get the first 3 rows of a given DataFrame."
      ]
    },
    {
      "cell_type": "code",
      "execution_count": null,
      "metadata": {
        "colab": {
          "base_uri": "https://localhost:8080/"
        },
        "id": "MSIRmWsJUz51",
        "outputId": "dba6fcc2-0a7a-4cc2-8fb8-f76bd34fab8a"
      },
      "outputs": [
        {
          "name": "stdout",
          "output_type": "stream",
          "text": [
            "   attempts       name qualify score\n",
            "a         1  Anastasia     yes  12.5\n",
            "b         3       Dima      no     9\n",
            "c         2  Katherine     yes  16.5\n"
          ]
        }
      ],
      "source": [
        "import pandas as pd\n",
        "data = {'attempts': [1, 3, 2, 3, 2, 3, 1, 1, 2, 1],'name': ['Anastasia', 'Dima', 'Katherine', 'James', 'Emily', 'Michael', 'Matthew', 'Laura', 'Kevin', 'Jonas'],\n",
        "'qualify': ['yes', 'no', 'yes', 'no', 'no', 'yes', 'yes', 'no', 'no', 'yes'],'score': [12.5, 9, 16.5, \"np.nan\", 9, 20, 14.5, \"np.nan\", 8, 19]}\n",
        "df=pd.DataFrame(data,index=['a', 'b', 'c', 'd', 'e', 'f', 'g', 'h', 'i', 'j'])\n",
        "print(df.loc[['a','b','c']])"
      ]
    },
    {
      "cell_type": "markdown",
      "metadata": {
        "id": "rJQmAkf8BOQm"
      },
      "source": [
        "4.Write a Pandas program to select the 'name' and 'score' columns from the following DataFrame."
      ]
    },
    {
      "cell_type": "code",
      "execution_count": null,
      "metadata": {
        "colab": {
          "base_uri": "https://localhost:8080/"
        },
        "id": "W8IGyek6BUPe",
        "outputId": "daa7ec2a-2e10-4f9e-9dfd-b6d87a8852df"
      },
      "outputs": [
        {
          "name": "stdout",
          "output_type": "stream",
          "text": [
            "        name   score\n",
            "a  Anastasia    12.5\n",
            "b       Dima       9\n",
            "c  Katherine    16.5\n",
            "d      James  np.nan\n",
            "e      Emily       9\n",
            "f    Michael      20\n",
            "g    Matthew    14.5\n",
            "h      Laura  np.nan\n",
            "i      Kevin       8\n",
            "j      Jonas      19\n"
          ]
        }
      ],
      "source": [
        "import pandas as pd\n",
        "data = {'attempts': [1, 3, 2, 3, 2, 3, 1, 1, 2, 1],'name': ['Anastasia', 'Dima', 'Katherine', 'James', 'Emily', 'Michael', 'Matthew', 'Laura', 'Kevin', 'Jonas'],\n",
        "'qualify': ['yes', 'no', 'yes', 'no', 'no', 'yes', 'yes', 'no', 'no', 'yes'],'score': [12.5, 9, 16.5, \"np.nan\", 9, 20, 14.5, \"np.nan\", 8, 19]}\n",
        "df=pd.DataFrame(data,index=['a', 'b', 'c', 'd', 'e', 'f', 'g', 'h', 'i', 'j'])\n",
        "print(df[[\"name\",\"score\"]])"
      ]
    },
    {
      "cell_type": "markdown",
      "metadata": {
        "id": "mwpWtjHEDxUo"
      },
      "source": [
        "5. Write a Pandas program to select the specified columns and rows from a given data frame.Select 'name' and 'score' columns in rows 1, 3, 5, 6 from the following data frame."
      ]
    },
    {
      "cell_type": "code",
      "execution_count": null,
      "metadata": {
        "colab": {
          "base_uri": "https://localhost:8080/"
        },
        "id": "drNKXKIiDyPv",
        "outputId": "bee7df98-422c-4aaa-c707-db030b74a683"
      },
      "outputs": [
        {
          "name": "stdout",
          "output_type": "stream",
          "text": [
            "        name score\n",
            "1  Anastasia  12.5\n",
            "3  Katherine  16.5\n",
            "5      Emily     9\n",
            "6    Michael    20\n"
          ]
        }
      ],
      "source": [
        "import pandas as pd\n",
        "data = {'attempts': [1, 3, 2, 3, 2, 3, 1, 1, 2, 1],'name': ['Anastasia', 'Dima', 'Katherine', 'James', 'Emily', 'Michael', 'Matthew', 'Laura', 'Kevin', 'Jonas'],\n",
        "'qualify': ['yes', 'no', 'yes', 'no', 'no', 'yes', 'yes', 'no', 'no', 'yes'],'score': [12.5, 9, 16.5, \"np.nan\", 9, 20, 14.5, \"np.nan\", 8, 19]}\n",
        "df=pd.DataFrame(data,index= [1,2,3,4,5,6,7,8,9,10])\n",
        "print(df.loc[[1,3,5,6],[\"name\",\"score\"]])"
      ]
    },
    {
      "cell_type": "markdown",
      "metadata": {
        "id": "xUOTCjyeILPx"
      },
      "source": [
        "6. Write a Pandas program to select the rows where the number of attempts in the examination is greater than 2."
      ]
    },
    {
      "cell_type": "code",
      "execution_count": null,
      "metadata": {
        "colab": {
          "base_uri": "https://localhost:8080/"
        },
        "id": "hkdE_EtcJWyi",
        "outputId": "c1b3b1ab-536b-47c6-9256-5f4efc3a5b96"
      },
      "outputs": [
        {
          "name": "stdout",
          "output_type": "stream",
          "text": [
            "   attempts     name qualify   score\n",
            "b         3     Dima      no       9\n",
            "d         3    James      no  np.nan\n",
            "f         3  Michael     yes      20\n"
          ]
        }
      ],
      "source": [
        "import pandas as pd\n",
        "data = {'attempts': [1, 3, 2, 3, 2, 3, 1, 1, 2, 1],'name': ['Anastasia', 'Dima', 'Katherine', 'James', 'Emily', 'Michael', 'Matthew', 'Laura', 'Kevin', 'Jonas'],\n",
        "'qualify': ['yes', 'no', 'yes', 'no', 'no', 'yes', 'yes', 'no', 'no', 'yes'],'score': [12.5, 9, 16.5, \"np.nan\", 9, 20, 14.5, \"np.nan\", 8, 19]}\n",
        "df=pd.DataFrame(data,index=['a', 'b', 'c', 'd', 'e', 'f', 'g', 'h', 'i', 'j'])\n",
        "print(df[df[\"attempts\"]>2])\n"
      ]
    },
    {
      "cell_type": "markdown",
      "metadata": {
        "id": "5_WjJMi-LX1B"
      },
      "source": [
        "7. Write a Pandas program to select the rows where the score is missing, i.e. is NaN."
      ]
    },
    {
      "cell_type": "code",
      "execution_count": null,
      "metadata": {
        "colab": {
          "base_uri": "https://localhost:8080/"
        },
        "id": "ppdPtrSp7IpX",
        "outputId": "5f2cd4d0-4e8f-42a8-dc2d-ca07952463db"
      },
      "outputs": [
        {
          "name": "stdout",
          "output_type": "stream",
          "text": [
            "Rows where score is missing:\n",
            "    name  score  attempts qualify\n",
            "d  James    NaN         3      no\n",
            "h  Laura    NaN         1      no\n"
          ]
        }
      ],
      "source": [
        "import pandas as pd\n",
        "\n",
        "exam_data = {\n",
        "    'name': ['Anastasia', 'Dima', 'Katherine', 'James', 'Emily', 'Michael', 'Matthew', 'Laura', 'Kevin', 'Jonas'],\n",
        "    'score': [12.5, 9, 16.5, np.nan, 9, 20, 14.5, np.nan, 8, 19],\n",
        "    'attempts': [1, 3, 2, 3, 2, 3, 1, 1, 2, 1],\n",
        "    'qualify': ['yes', 'no', 'yes', 'no', 'no', 'yes', 'yes', 'no', 'no', 'yes']\n",
        "}\n",
        "\n",
        "labels = ['a', 'b', 'c', 'd', 'e', 'f', 'g', 'h', 'i', 'j']\n",
        "\n",
        "df = pd.DataFrame(exam_data, index=labels)\n",
        "\n",
        "missing_scores = df[df['score'].isnull()]\n",
        "\n",
        "print(\"Rows where score is missing:\")\n",
        "print(missing_scores)"
      ]
    },
    {
      "cell_type": "markdown",
      "metadata": {
        "id": "J_yfYtZ-Jzrd"
      },
      "source": [
        "8. Write a Pandas program to select the rows the score is between 15 and 20 (inclusive)."
      ]
    },
    {
      "cell_type": "code",
      "execution_count": null,
      "metadata": {
        "colab": {
          "base_uri": "https://localhost:8080/"
        },
        "id": "reQVEw6RKHlI",
        "outputId": "09bc489a-9cf2-4021-c99d-d31cd7e2a6b9"
      },
      "outputs": [
        {
          "name": "stdout",
          "output_type": "stream",
          "text": [
            "        name  score  attempts qualify\n",
            "c  Katherine   16.5         2     yes\n",
            "f    Michael   20.0         3     yes\n",
            "j      Jonas   19.0         1     yes\n"
          ]
        }
      ],
      "source": [
        "import pandas as pd\n",
        "\n",
        "exam_data = {\n",
        "    'name': ['Anastasia', 'Dima', 'Katherine', 'James', 'Emily', 'Michael', 'Matthew', 'Laura', 'Kevin', 'Jonas'],\n",
        "    'score': [12.5, 9, 16.5, np.nan, 9, 20, 14.5, np.nan, 8, 19],\n",
        "    'attempts': [1, 3, 2, 3, 2, 3, 1, 1, 2, 1],\n",
        "    'qualify': ['yes', 'no', 'yes', 'no', 'no', 'yes', 'yes', 'no', 'no', 'yes']\n",
        "}\n",
        "\n",
        "labels = ['a', 'b', 'c', 'd', 'e', 'f', 'g', 'h', 'i', 'j']\n",
        "\n",
        "df = pd.DataFrame(exam_data, index=labels)\n",
        "newdf = df[df['score'].between(15, 20)]\n",
        "print(newdf)"
      ]
    },
    {
      "cell_type": "markdown",
      "metadata": {
        "id": "JsuoE6Fz_P5T"
      },
      "source": [
        "9. Write a Pandas program to select the rows where number of attempts in the examination is less than 2 and score greater than 15."
      ]
    },
    {
      "cell_type": "code",
      "execution_count": 1,
      "metadata": {
        "colab": {
          "background_save": true,
          "base_uri": "https://localhost:8080/",
          "height": 286
        },
        "id": "E5cQuTWO_Q6H",
        "outputId": "3cf9ad6b-5599-4eea-ffc8-f2a92fcae273"
      },
      "outputs": [
        {
          "name": "stdout",
          "output_type": "stream",
          "text": [
            "      name  attempts  score\n",
            "0    Alice         1     20\n",
            "2  Charlie         1     25\n"
          ]
        }
      ],
      "source": [
        "import pandas as pd\n",
        "\n",
        "\n",
        "data = {\n",
        "    'name': ['Alice', 'Bob', 'Charlie', 'David'],\n",
        "    'attempts': [1, 3, 1, 2],\n",
        "    'score': [20, 10, 25, 18]\n",
        "}\n",
        "df = pd.DataFrame(data)\n",
        "filtered_df = df[(df['attempts'] < 2) & (df['score'] > 15)]\n",
        "print(filtered_df)"
      ]
    },
    {
      "cell_type": "markdown",
      "metadata": {
        "id": "_i9YnvxxAe8W"
      },
      "source": [
        "10. Write a Pandas program to change the score in row 'd' to 11.5."
      ]
    },
    {
      "cell_type": "code",
      "execution_count": null,
      "metadata": {
        "colab": {
          "base_uri": "https://localhost:8080/"
        },
        "id": "PR0UiN9yAj3L",
        "outputId": "3b3aee1b-0042-4c9e-8f05-19d0333ae067"
      },
      "outputs": [
        {
          "name": "stdout",
          "output_type": "stream",
          "text": [
            "orginal dataframe\n",
            "        name  score  attempts qualify\n",
            "a  Anastasia   12.5         1     yes\n",
            "b       Dima    9.0         3      no\n",
            "c  Katherine   16.5         2     yes\n",
            "d      James    NaN         3      no\n",
            "e      Emily    9.0         2      no\n",
            "f    Michael   20.0         3     yes\n",
            "g    Matthew   14.5         1     yes\n",
            "h      Laura    NaN         1      no\n",
            "i      Kevin    8.0         2      no\n",
            "j      Jonas   19.0         1     yes\n",
            "after update\n",
            "        name  score  attempts qualify\n",
            "a  Anastasia   12.5         1     yes\n",
            "b       Dima    9.0         3      no\n",
            "c  Katherine   16.5         2     yes\n",
            "d      James   11.5         3      no\n",
            "e      Emily    9.0         2      no\n",
            "f    Michael   20.0         3     yes\n",
            "g    Matthew   14.5         1     yes\n",
            "h      Laura    NaN         1      no\n",
            "i      Kevin    8.0         2      no\n",
            "j      Jonas   19.0         1     yes\n"
          ]
        }
      ],
      "source": [
        "import pandas as pd\n",
        "\n",
        "exam_data = {\n",
        "    'name': ['Anastasia', 'Dima', 'Katherine', 'James', 'Emily', 'Michael', 'Matthew', 'Laura', 'Kevin', 'Jonas'],\n",
        "    'score': [12.5, 9, 16.5, np.nan, 9, 20, 14.5, np.nan, 8, 19],\n",
        "    'attempts': [1, 3, 2, 3, 2, 3, 1, 1, 2, 1],\n",
        "    'qualify': ['yes', 'no', 'yes', 'no', 'no', 'yes', 'yes', 'no', 'no', 'yes']\n",
        "}\n",
        "\n",
        "labels = ['a', 'b', 'c', 'd', 'e', 'f', 'g', 'h', 'i', 'j']\n",
        "\n",
        "df = pd.DataFrame(exam_data, index=labels)\n",
        "print(\"orginal dataframe\")\n",
        "print(df)\n",
        "df.loc['d','score']=11.5\n",
        "print(\"after update\")\n",
        "print(df)"
      ]
    },
    {
      "cell_type": "markdown",
      "metadata": {
        "id": "6Ej9aCj6CNfA"
      },
      "source": [
        "11. Write a Pandas program to calculate the sum of the examination attempts by the students."
      ]
    },
    {
      "cell_type": "code",
      "execution_count": null,
      "metadata": {
        "colab": {
          "base_uri": "https://localhost:8080/"
        },
        "id": "rQlPTkXzCOTr",
        "outputId": "c4663c5c-f466-496e-b8b3-c67a6908479f"
      },
      "outputs": [
        {
          "name": "stdout",
          "output_type": "stream",
          "text": [
            "Sum of the examination attempts by the students:\n",
            "19\n"
          ]
        }
      ],
      "source": [
        "import pandas as pd\n",
        "\n",
        "exam_data = {\n",
        "    'name': ['Anastasia', 'Dima', 'Katherine', 'James', 'Emily', 'Michael', 'Matthew', 'Laura', 'Kevin', 'Jonas'],\n",
        "    'score': [12.5, 9, 16.5, np.nan, 9, 20, 14.5, np.nan, 8, 19],\n",
        "    'attempts': [1, 3, 2, 3, 2, 3, 1, 1, 2, 1],\n",
        "    'qualify': ['yes', 'no', 'yes', 'no', 'no', 'yes', 'yes', 'no', 'no', 'yes']\n",
        "}\n",
        "\n",
        "labels = ['a', 'b', 'c', 'd', 'e', 'f', 'g', 'h', 'i', 'j']\n",
        "\n",
        "df = pd.DataFrame(exam_data, index=labels)\n",
        "sum=df['attempts'].sum()\n",
        "print(\"Sum of the examination attempts by the students:\")\n",
        "print(sum)"
      ]
    },
    {
      "cell_type": "markdown",
      "metadata": {
        "id": "E1-pQO9zNLTw"
      },
      "source": [
        "12.Write a Pandas program to calculate the mean of all students' scores. Data is stored in a dataframe."
      ]
    },
    {
      "cell_type": "code",
      "execution_count": null,
      "metadata": {
        "colab": {
          "base_uri": "https://localhost:8080/"
        },
        "id": "IdI47tatNQXf",
        "outputId": "19e50184-eece-44de-9a7f-db32995a743a"
      },
      "outputs": [
        {
          "name": "stdout",
          "output_type": "stream",
          "text": [
            "Sum of the examination attempts by the students:\n",
            "13.5625\n"
          ]
        }
      ],
      "source": [
        "import pandas as pd\n",
        "\n",
        "exam_data = {\n",
        "    'name': ['Anastasia', 'Dima', 'Katherine', 'James', 'Emily', 'Michael', 'Matthew', 'Laura', 'Kevin', 'Jonas'],\n",
        "    'score': [12.5, 9, 16.5, np.nan, 9, 20, 14.5, np.nan, 8, 19],\n",
        "    'attempts': [1, 3, 2, 3, 2, 3, 1, 1, 2, 1],\n",
        "    'qualify': ['yes', 'no', 'yes', 'no', 'no', 'yes', 'yes', 'no', 'no', 'yes']\n",
        "}\n",
        "\n",
        "labels = ['a', 'b', 'c', 'd', 'e', 'f', 'g', 'h', 'i', 'j']\n",
        "\n",
        "df = pd.DataFrame(exam_data, index=labels)\n",
        "m=df['score'].mean()\n",
        "print(\"Sum of the examination attempts by the students:\")\n",
        "print(m)"
      ]
    },
    {
      "cell_type": "markdown",
      "metadata": {
        "id": "zEJwehRSNlLx"
      },
      "source": [
        "13.Write a Pandas program to replace the 'qualify' column contains the values 'yes' and 'no' with True and False."
      ]
    },
    {
      "cell_type": "code",
      "execution_count": null,
      "metadata": {
        "colab": {
          "base_uri": "https://localhost:8080/"
        },
        "id": "HOBk-FAeNoCZ",
        "outputId": "52c4e91e-e610-42e7-da14-5da765e8b9f0"
      },
      "outputs": [
        {
          "name": "stdout",
          "output_type": "stream",
          "text": [
            "        name  score  attempts qualify\n",
            "a  Anastasia   12.5         1     yes\n",
            "b       Dima    9.0         3      no\n",
            "c  Katherine   16.5         2     yes\n",
            "d      James    NaN         3      no\n",
            "e      Emily    9.0         2      no\n",
            "f    Michael   20.0         3     yes\n",
            "g    Matthew   14.5         1     yes\n",
            "h      Laura    NaN         1      no\n",
            "i      Kevin    8.0         2      no\n",
            "j      Jonas   19.0         1     yes\n",
            "update DataFrame\n",
            "        name  score  attempts  qualify\n",
            "a  Anastasia   12.5         1     True\n",
            "b       Dima    9.0         3    False\n",
            "c  Katherine   16.5         2     True\n",
            "d      James    NaN         3    False\n",
            "e      Emily    9.0         2    False\n",
            "f    Michael   20.0         3     True\n",
            "g    Matthew   14.5         1     True\n",
            "h      Laura    NaN         1    False\n",
            "i      Kevin    8.0         2    False\n",
            "j      Jonas   19.0         1     True\n"
          ]
        }
      ],
      "source": [
        "import pandas as pd\n",
        "\n",
        "exam_data = {\n",
        "    'name': ['Anastasia', 'Dima', 'Katherine', 'James', 'Emily', 'Michael', 'Matthew', 'Laura', 'Kevin', 'Jonas'],\n",
        "    'score': [12.5, 9, 16.5, np.nan, 9, 20, 14.5, np.nan, 8, 19],\n",
        "    'attempts': [1, 3, 2, 3, 2, 3, 1, 1, 2, 1],\n",
        "    'qualify': ['yes', 'no', 'yes', 'no', 'no', 'yes', 'yes', 'no', 'no', 'yes']\n",
        "}\n",
        "\n",
        "labels = ['a', 'b', 'c', 'd', 'e', 'f', 'g', 'h', 'i', 'j']\n",
        "\n",
        "df = pd.DataFrame(exam_data, index=labels)\n",
        "print(df)\n",
        "df['qualify']=df['qualify'].map({'yes':True,'no':False})\n",
        "print(\"update DataFrame\")\n",
        "print(df)"
      ]
    },
    {
      "cell_type": "markdown",
      "metadata": {
        "id": "yp5EJBlzU4Tg"
      },
      "source": [
        "14.Write a Pandas program to change the name 'James' to 'Suresh' in name column of the DataFrame."
      ]
    },
    {
      "cell_type": "code",
      "execution_count": null,
      "metadata": {
        "colab": {
          "base_uri": "https://localhost:8080/"
        },
        "id": "v8OJhYCHVPba",
        "outputId": "3c39c15b-10aa-4c6d-ef3d-aa10f3a0393d"
      },
      "outputs": [
        {
          "name": "stdout",
          "output_type": "stream",
          "text": [
            "        name  score  attempts qualify\n",
            "a  Anastasia   12.5         1     yes\n",
            "b       Dima    9.0         3      no\n",
            "c  Katherine   16.5         2     yes\n",
            "d      James    NaN         3      no\n",
            "e      Emily    9.0         2      no\n",
            "f    Michael   20.0         3     yes\n",
            "g    Matthew   14.5         1     yes\n",
            "h      Laura    NaN         1      no\n",
            "i      Kevin    8.0         2      no\n",
            "j      Jonas   19.0         1     yes\n",
            "\n",
            "Updated:\n",
            "        name  score  attempts qualify\n",
            "a  Anastasia   12.5         1     yes\n",
            "b       Dima    9.0         3      no\n",
            "c  Katherine   16.5         2     yes\n",
            "d     suresh    NaN         3      no\n",
            "e      Emily    9.0         2      no\n",
            "f    Michael   20.0         3     yes\n",
            "g    Matthew   14.5         1     yes\n",
            "h      Laura    NaN         1      no\n",
            "i      Kevin    8.0         2      no\n",
            "j      Jonas   19.0         1     yes\n"
          ]
        }
      ],
      "source": [
        "\n",
        "import pandas as pd\n",
        "\n",
        "exam_data = {\n",
        "    'name': ['Anastasia', 'Dima', 'Katherine', 'James', 'Emily', 'Michael', 'Matthew', 'Laura', 'Kevin', 'Jonas'],\n",
        "    'score': [12.5, 9, 16.5, np.nan, 9, 20, 14.5, np.nan, 8, 19],\n",
        "    'attempts': [1, 3, 2, 3, 2, 3, 1, 1, 2, 1],\n",
        "    'qualify': ['yes', 'no', 'yes', 'no', 'no', 'yes', 'yes', 'no', 'no', 'yes']\n",
        "}\n",
        "\n",
        "labels = ['a', 'b', 'c', 'd', 'e', 'f', 'g', 'h', 'i', 'j']\n",
        "\n",
        "df = pd.DataFrame(exam_data, index=labels)\n",
        "print(df)\n",
        "#df.loc[\"d\",\"name\"]=\"Suresh\"\n",
        "print(\"\\nUpdated:\")\n",
        "df['name']=df['name'].replace('James','suresh')\n",
        "print(df)"
      ]
    },
    {
      "cell_type": "markdown",
      "metadata": {
        "id": "II5idDNqWkPK"
      },
      "source": [
        "15. Write a Pandas program to delete the 'attempts' column from the DataFrame."
      ]
    },
    {
      "cell_type": "code",
      "execution_count": null,
      "metadata": {
        "colab": {
          "base_uri": "https://localhost:8080/"
        },
        "id": "9z0ITnqj4KSv",
        "outputId": "12b137c1-3f46-4973-f840-e797051961a3"
      },
      "outputs": [
        {
          "name": "stdout",
          "output_type": "stream",
          "text": [
            "        name   score  attempts qualify\n",
            "a  Anastasia    12.5         1     yes\n",
            "b       Dima       9         3      no\n",
            "c  Katherine    16.5         2     yes\n",
            "d      James  np.nan         3      no\n",
            "e      Emily       9         2      no\n",
            "f    Michael      20         3     yes\n",
            "g    Matthew    14.5         1     yes\n",
            "h      Laura  np.nan         1      no\n",
            "i      Kevin       8         2      no\n",
            "j      Jonas      19         1     yes\n",
            "        name   score qualify\n",
            "a  Anastasia    12.5     yes\n",
            "b       Dima       9      no\n",
            "c  Katherine    16.5     yes\n",
            "d      James  np.nan      no\n",
            "e      Emily       9      no\n",
            "f    Michael      20     yes\n",
            "g    Matthew    14.5     yes\n",
            "h      Laura  np.nan      no\n",
            "i      Kevin       8      no\n",
            "j      Jonas      19     yes\n"
          ]
        }
      ],
      "source": [
        "import pandas as pd\n",
        "\n",
        "exam_data = {\n",
        "    'name': ['Anastasia', 'Dima', 'Katherine', 'James', 'Emily', 'Michael', 'Matthew', 'Laura', 'Kevin', 'Jonas'],\n",
        "    'score': [12.5, 9, 16.5, \"np.nan\", 9, 20, 14.5, \"np.nan\", 8, 19],\n",
        "    'attempts': [1, 3, 2, 3, 2, 3, 1, 1, 2, 1],\n",
        "    'qualify': ['yes', 'no', 'yes', 'no', 'no', 'yes', 'yes', 'no', 'no', 'yes']\n",
        "}\n",
        "\n",
        "labels = ['a', 'b', 'c', 'd', 'e', 'f', 'g', 'h', 'i', 'j']\n",
        "\n",
        "df = pd.DataFrame(exam_data, index=labels)\n",
        "print(df)\n",
        "df.pop('attempts')\n",
        "print(df)"
      ]
    },
    {
      "cell_type": "markdown",
      "metadata": {
        "id": "4fWc17vf0jVS"
      },
      "source": [
        "16. Write a Pandas program to insert a new column in existing DataFrame."
      ]
    },
    {
      "cell_type": "code",
      "execution_count": null,
      "metadata": {
        "colab": {
          "base_uri": "https://localhost:8080/",
          "height": 606
        },
        "id": "Z12D-iy_4xqW",
        "outputId": "f39a4b9a-3e71-411f-eeb3-c29e4e29305e"
      },
      "outputs": [
        {
          "name": "stdout",
          "output_type": "stream",
          "text": [
            "orginal dataframe:\n",
            "   attempts       name qualify   score\n",
            "a         1  Anastasia     yes    12.5\n",
            "b         3       Dima      no       9\n",
            "c         2  Katherine     yes    16.5\n",
            "d         3      James      no  np.nan\n",
            "e         2      Emily      no       9\n",
            "f         3    Michael     yes      20\n",
            "g         1    Matthew     yes    14.5\n",
            "h         1      Laura      no  np.nan\n",
            "i         2      Kevin      no       8\n",
            "j         1      Jonas     yes      19\n",
            "\n",
            "after  adding column:\n"
          ]
        },
        {
          "data": {
            "text/html": [
              "\n",
              "  <div id=\"df-63ac4296-680a-40d1-a030-27f556d3f65f\" class=\"colab-df-container\">\n",
              "    <div>\n",
              "<style scoped>\n",
              "    .dataframe tbody tr th:only-of-type {\n",
              "        vertical-align: middle;\n",
              "    }\n",
              "\n",
              "    .dataframe tbody tr th {\n",
              "        vertical-align: top;\n",
              "    }\n",
              "\n",
              "    .dataframe thead th {\n",
              "        text-align: right;\n",
              "    }\n",
              "</style>\n",
              "<table border=\"1\" class=\"dataframe\">\n",
              "  <thead>\n",
              "    <tr style=\"text-align: right;\">\n",
              "      <th></th>\n",
              "      <th>attempts</th>\n",
              "      <th>name</th>\n",
              "      <th>qualify</th>\n",
              "      <th>score</th>\n",
              "      <th>color</th>\n",
              "    </tr>\n",
              "  </thead>\n",
              "  <tbody>\n",
              "    <tr>\n",
              "      <th>a</th>\n",
              "      <td>1</td>\n",
              "      <td>Anastasia</td>\n",
              "      <td>yes</td>\n",
              "      <td>12.5</td>\n",
              "      <td>Red</td>\n",
              "    </tr>\n",
              "    <tr>\n",
              "      <th>b</th>\n",
              "      <td>3</td>\n",
              "      <td>Dima</td>\n",
              "      <td>no</td>\n",
              "      <td>9</td>\n",
              "      <td>Green</td>\n",
              "    </tr>\n",
              "    <tr>\n",
              "      <th>c</th>\n",
              "      <td>2</td>\n",
              "      <td>Katherine</td>\n",
              "      <td>yes</td>\n",
              "      <td>16.5</td>\n",
              "      <td>white</td>\n",
              "    </tr>\n",
              "    <tr>\n",
              "      <th>d</th>\n",
              "      <td>3</td>\n",
              "      <td>James</td>\n",
              "      <td>no</td>\n",
              "      <td>np.nan</td>\n",
              "      <td>blue</td>\n",
              "    </tr>\n",
              "    <tr>\n",
              "      <th>e</th>\n",
              "      <td>2</td>\n",
              "      <td>Emily</td>\n",
              "      <td>no</td>\n",
              "      <td>9</td>\n",
              "      <td>yellow</td>\n",
              "    </tr>\n",
              "    <tr>\n",
              "      <th>f</th>\n",
              "      <td>3</td>\n",
              "      <td>Michael</td>\n",
              "      <td>yes</td>\n",
              "      <td>20</td>\n",
              "      <td>violet</td>\n",
              "    </tr>\n",
              "    <tr>\n",
              "      <th>g</th>\n",
              "      <td>1</td>\n",
              "      <td>Matthew</td>\n",
              "      <td>yes</td>\n",
              "      <td>14.5</td>\n",
              "      <td>indigo</td>\n",
              "    </tr>\n",
              "    <tr>\n",
              "      <th>h</th>\n",
              "      <td>1</td>\n",
              "      <td>Laura</td>\n",
              "      <td>no</td>\n",
              "      <td>np.nan</td>\n",
              "      <td>orange</td>\n",
              "    </tr>\n",
              "    <tr>\n",
              "      <th>i</th>\n",
              "      <td>2</td>\n",
              "      <td>Kevin</td>\n",
              "      <td>no</td>\n",
              "      <td>8</td>\n",
              "      <td>black</td>\n",
              "    </tr>\n",
              "    <tr>\n",
              "      <th>j</th>\n",
              "      <td>1</td>\n",
              "      <td>Jonas</td>\n",
              "      <td>yes</td>\n",
              "      <td>19</td>\n",
              "      <td>pink</td>\n",
              "    </tr>\n",
              "  </tbody>\n",
              "</table>\n",
              "</div>\n",
              "    <div class=\"colab-df-buttons\">\n",
              "\n",
              "  <div class=\"colab-df-container\">\n",
              "    <button class=\"colab-df-convert\" onclick=\"convertToInteractive('df-63ac4296-680a-40d1-a030-27f556d3f65f')\"\n",
              "            title=\"Convert this dataframe to an interactive table.\"\n",
              "            style=\"display:none;\">\n",
              "\n",
              "  <svg xmlns=\"http://www.w3.org/2000/svg\" height=\"24px\" viewBox=\"0 -960 960 960\">\n",
              "    <path d=\"M120-120v-720h720v720H120Zm60-500h600v-160H180v160Zm220 220h160v-160H400v160Zm0 220h160v-160H400v160ZM180-400h160v-160H180v160Zm440 0h160v-160H620v160ZM180-180h160v-160H180v160Zm440 0h160v-160H620v160Z\"/>\n",
              "  </svg>\n",
              "    </button>\n",
              "\n",
              "  <style>\n",
              "    .colab-df-container {\n",
              "      display:flex;\n",
              "      gap: 12px;\n",
              "    }\n",
              "\n",
              "    .colab-df-convert {\n",
              "      background-color: #E8F0FE;\n",
              "      border: none;\n",
              "      border-radius: 50%;\n",
              "      cursor: pointer;\n",
              "      display: none;\n",
              "      fill: #1967D2;\n",
              "      height: 32px;\n",
              "      padding: 0 0 0 0;\n",
              "      width: 32px;\n",
              "    }\n",
              "\n",
              "    .colab-df-convert:hover {\n",
              "      background-color: #E2EBFA;\n",
              "      box-shadow: 0px 1px 2px rgba(60, 64, 67, 0.3), 0px 1px 3px 1px rgba(60, 64, 67, 0.15);\n",
              "      fill: #174EA6;\n",
              "    }\n",
              "\n",
              "    .colab-df-buttons div {\n",
              "      margin-bottom: 4px;\n",
              "    }\n",
              "\n",
              "    [theme=dark] .colab-df-convert {\n",
              "      background-color: #3B4455;\n",
              "      fill: #D2E3FC;\n",
              "    }\n",
              "\n",
              "    [theme=dark] .colab-df-convert:hover {\n",
              "      background-color: #434B5C;\n",
              "      box-shadow: 0px 1px 3px 1px rgba(0, 0, 0, 0.15);\n",
              "      filter: drop-shadow(0px 1px 2px rgba(0, 0, 0, 0.3));\n",
              "      fill: #FFFFFF;\n",
              "    }\n",
              "  </style>\n",
              "\n",
              "    <script>\n",
              "      const buttonEl =\n",
              "        document.querySelector('#df-63ac4296-680a-40d1-a030-27f556d3f65f button.colab-df-convert');\n",
              "      buttonEl.style.display =\n",
              "        google.colab.kernel.accessAllowed ? 'block' : 'none';\n",
              "\n",
              "      async function convertToInteractive(key) {\n",
              "        const element = document.querySelector('#df-63ac4296-680a-40d1-a030-27f556d3f65f');\n",
              "        const dataTable =\n",
              "          await google.colab.kernel.invokeFunction('convertToInteractive',\n",
              "                                                    [key], {});\n",
              "        if (!dataTable) return;\n",
              "\n",
              "        const docLinkHtml = 'Like what you see? Visit the ' +\n",
              "          '<a target=\"_blank\" href=https://colab.research.google.com/notebooks/data_table.ipynb>data table notebook</a>'\n",
              "          + ' to learn more about interactive tables.';\n",
              "        element.innerHTML = '';\n",
              "        dataTable['output_type'] = 'display_data';\n",
              "        await google.colab.output.renderOutput(dataTable, element);\n",
              "        const docLink = document.createElement('div');\n",
              "        docLink.innerHTML = docLinkHtml;\n",
              "        element.appendChild(docLink);\n",
              "      }\n",
              "    </script>\n",
              "  </div>\n",
              "\n",
              "\n",
              "<div id=\"df-84d03e50-7777-497c-b985-67e42cd7bc2d\">\n",
              "  <button class=\"colab-df-quickchart\" onclick=\"quickchart('df-84d03e50-7777-497c-b985-67e42cd7bc2d')\"\n",
              "            title=\"Suggest charts\"\n",
              "            style=\"display:none;\">\n",
              "\n",
              "<svg xmlns=\"http://www.w3.org/2000/svg\" height=\"24px\"viewBox=\"0 0 24 24\"\n",
              "     width=\"24px\">\n",
              "    <g>\n",
              "        <path d=\"M19 3H5c-1.1 0-2 .9-2 2v14c0 1.1.9 2 2 2h14c1.1 0 2-.9 2-2V5c0-1.1-.9-2-2-2zM9 17H7v-7h2v7zm4 0h-2V7h2v10zm4 0h-2v-4h2v4z\"/>\n",
              "    </g>\n",
              "</svg>\n",
              "  </button>\n",
              "\n",
              "<style>\n",
              "  .colab-df-quickchart {\n",
              "      --bg-color: #E8F0FE;\n",
              "      --fill-color: #1967D2;\n",
              "      --hover-bg-color: #E2EBFA;\n",
              "      --hover-fill-color: #174EA6;\n",
              "      --disabled-fill-color: #AAA;\n",
              "      --disabled-bg-color: #DDD;\n",
              "  }\n",
              "\n",
              "  [theme=dark] .colab-df-quickchart {\n",
              "      --bg-color: #3B4455;\n",
              "      --fill-color: #D2E3FC;\n",
              "      --hover-bg-color: #434B5C;\n",
              "      --hover-fill-color: #FFFFFF;\n",
              "      --disabled-bg-color: #3B4455;\n",
              "      --disabled-fill-color: #666;\n",
              "  }\n",
              "\n",
              "  .colab-df-quickchart {\n",
              "    background-color: var(--bg-color);\n",
              "    border: none;\n",
              "    border-radius: 50%;\n",
              "    cursor: pointer;\n",
              "    display: none;\n",
              "    fill: var(--fill-color);\n",
              "    height: 32px;\n",
              "    padding: 0;\n",
              "    width: 32px;\n",
              "  }\n",
              "\n",
              "  .colab-df-quickchart:hover {\n",
              "    background-color: var(--hover-bg-color);\n",
              "    box-shadow: 0 1px 2px rgba(60, 64, 67, 0.3), 0 1px 3px 1px rgba(60, 64, 67, 0.15);\n",
              "    fill: var(--button-hover-fill-color);\n",
              "  }\n",
              "\n",
              "  .colab-df-quickchart-complete:disabled,\n",
              "  .colab-df-quickchart-complete:disabled:hover {\n",
              "    background-color: var(--disabled-bg-color);\n",
              "    fill: var(--disabled-fill-color);\n",
              "    box-shadow: none;\n",
              "  }\n",
              "\n",
              "  .colab-df-spinner {\n",
              "    border: 2px solid var(--fill-color);\n",
              "    border-color: transparent;\n",
              "    border-bottom-color: var(--fill-color);\n",
              "    animation:\n",
              "      spin 1s steps(1) infinite;\n",
              "  }\n",
              "\n",
              "  @keyframes spin {\n",
              "    0% {\n",
              "      border-color: transparent;\n",
              "      border-bottom-color: var(--fill-color);\n",
              "      border-left-color: var(--fill-color);\n",
              "    }\n",
              "    20% {\n",
              "      border-color: transparent;\n",
              "      border-left-color: var(--fill-color);\n",
              "      border-top-color: var(--fill-color);\n",
              "    }\n",
              "    30% {\n",
              "      border-color: transparent;\n",
              "      border-left-color: var(--fill-color);\n",
              "      border-top-color: var(--fill-color);\n",
              "      border-right-color: var(--fill-color);\n",
              "    }\n",
              "    40% {\n",
              "      border-color: transparent;\n",
              "      border-right-color: var(--fill-color);\n",
              "      border-top-color: var(--fill-color);\n",
              "    }\n",
              "    60% {\n",
              "      border-color: transparent;\n",
              "      border-right-color: var(--fill-color);\n",
              "    }\n",
              "    80% {\n",
              "      border-color: transparent;\n",
              "      border-right-color: var(--fill-color);\n",
              "      border-bottom-color: var(--fill-color);\n",
              "    }\n",
              "    90% {\n",
              "      border-color: transparent;\n",
              "      border-bottom-color: var(--fill-color);\n",
              "    }\n",
              "  }\n",
              "</style>\n",
              "\n",
              "  <script>\n",
              "    async function quickchart(key) {\n",
              "      const quickchartButtonEl =\n",
              "        document.querySelector('#' + key + ' button');\n",
              "      quickchartButtonEl.disabled = true;  // To prevent multiple clicks.\n",
              "      quickchartButtonEl.classList.add('colab-df-spinner');\n",
              "      try {\n",
              "        const charts = await google.colab.kernel.invokeFunction(\n",
              "            'suggestCharts', [key], {});\n",
              "      } catch (error) {\n",
              "        console.error('Error during call to suggestCharts:', error);\n",
              "      }\n",
              "      quickchartButtonEl.classList.remove('colab-df-spinner');\n",
              "      quickchartButtonEl.classList.add('colab-df-quickchart-complete');\n",
              "    }\n",
              "    (() => {\n",
              "      let quickchartButtonEl =\n",
              "        document.querySelector('#df-84d03e50-7777-497c-b985-67e42cd7bc2d button');\n",
              "      quickchartButtonEl.style.display =\n",
              "        google.colab.kernel.accessAllowed ? 'block' : 'none';\n",
              "    })();\n",
              "  </script>\n",
              "</div>\n",
              "\n",
              "  <div id=\"id_221dc68e-a709-4286-af68-a941ea320656\">\n",
              "    <style>\n",
              "      .colab-df-generate {\n",
              "        background-color: #E8F0FE;\n",
              "        border: none;\n",
              "        border-radius: 50%;\n",
              "        cursor: pointer;\n",
              "        display: none;\n",
              "        fill: #1967D2;\n",
              "        height: 32px;\n",
              "        padding: 0 0 0 0;\n",
              "        width: 32px;\n",
              "      }\n",
              "\n",
              "      .colab-df-generate:hover {\n",
              "        background-color: #E2EBFA;\n",
              "        box-shadow: 0px 1px 2px rgba(60, 64, 67, 0.3), 0px 1px 3px 1px rgba(60, 64, 67, 0.15);\n",
              "        fill: #174EA6;\n",
              "      }\n",
              "\n",
              "      [theme=dark] .colab-df-generate {\n",
              "        background-color: #3B4455;\n",
              "        fill: #D2E3FC;\n",
              "      }\n",
              "\n",
              "      [theme=dark] .colab-df-generate:hover {\n",
              "        background-color: #434B5C;\n",
              "        box-shadow: 0px 1px 3px 1px rgba(0, 0, 0, 0.15);\n",
              "        filter: drop-shadow(0px 1px 2px rgba(0, 0, 0, 0.3));\n",
              "        fill: #FFFFFF;\n",
              "      }\n",
              "    </style>\n",
              "    <button class=\"colab-df-generate\" onclick=\"generateWithVariable('df')\"\n",
              "            title=\"Generate code using this dataframe.\"\n",
              "            style=\"display:none;\">\n",
              "\n",
              "  <svg xmlns=\"http://www.w3.org/2000/svg\" height=\"24px\"viewBox=\"0 0 24 24\"\n",
              "       width=\"24px\">\n",
              "    <path d=\"M7,19H8.4L18.45,9,17,7.55,7,17.6ZM5,21V16.75L18.45,3.32a2,2,0,0,1,2.83,0l1.4,1.43a1.91,1.91,0,0,1,.58,1.4,1.91,1.91,0,0,1-.58,1.4L9.25,21ZM18.45,9,17,7.55Zm-12,3A5.31,5.31,0,0,0,4.9,8.1,5.31,5.31,0,0,0,1,6.5,5.31,5.31,0,0,0,4.9,4.9,5.31,5.31,0,0,0,6.5,1,5.31,5.31,0,0,0,8.1,4.9,5.31,5.31,0,0,0,12,6.5,5.46,5.46,0,0,0,6.5,12Z\"/>\n",
              "  </svg>\n",
              "    </button>\n",
              "    <script>\n",
              "      (() => {\n",
              "      const buttonEl =\n",
              "        document.querySelector('#id_221dc68e-a709-4286-af68-a941ea320656 button.colab-df-generate');\n",
              "      buttonEl.style.display =\n",
              "        google.colab.kernel.accessAllowed ? 'block' : 'none';\n",
              "\n",
              "      buttonEl.onclick = () => {\n",
              "        google.colab.notebook.generateWithVariable('df');\n",
              "      }\n",
              "      })();\n",
              "    </script>\n",
              "  </div>\n",
              "\n",
              "    </div>\n",
              "  </div>\n"
            ],
            "text/plain": [
              "   attempts       name qualify   score   color\n",
              "a         1  Anastasia     yes    12.5     Red\n",
              "b         3       Dima      no       9   Green\n",
              "c         2  Katherine     yes    16.5   white\n",
              "d         3      James      no  np.nan    blue\n",
              "e         2      Emily      no       9  yellow\n",
              "f         3    Michael     yes      20  violet\n",
              "g         1    Matthew     yes    14.5  indigo\n",
              "h         1      Laura      no  np.nan  orange\n",
              "i         2      Kevin      no       8   black\n",
              "j         1      Jonas     yes      19    pink"
            ]
          },
          "execution_count": 15,
          "metadata": {},
          "output_type": "execute_result"
        }
      ],
      "source": [
        "import pandas as pd\n",
        "data = {'attempts': [1, 3, 2, 3, 2, 3, 1, 1, 2, 1],\n",
        "        'name': ['Anastasia', 'Dima', 'Katherine', 'James', 'Emily', 'Michael', 'Matthew', 'Laura', 'Kevin', 'Jonas'],\n",
        "        'qualify': ['yes', 'no', 'yes', 'no', 'no', 'yes', 'yes', 'no', 'no', 'yes'],\n",
        "        'score': [12.5, 9, 16.5, \"np.nan\", 9, 20, 14.5, \"np.nan\", 8, 19]}\n",
        "df=pd.DataFrame(data,index=['a', 'b', 'c', 'd', 'e', 'f', 'g', 'h', 'i', 'j'])\n",
        "print(\"orginal dataframe:\")\n",
        "print(df)\n",
        "df[\"color\"]=['Red','Green','white','blue','yellow','violet','indigo','orange','black','pink']\n",
        "print(\"\\nafter  adding column:\")\n",
        "df"
      ]
    },
    {
      "cell_type": "markdown",
      "metadata": {
        "id": "OvhWiGNySPqa"
      },
      "source": [
        "17. Write a Pandas program to rename columns of a given DataFrame"
      ]
    },
    {
      "cell_type": "code",
      "execution_count": null,
      "metadata": {
        "colab": {
          "base_uri": "https://localhost:8080/"
        },
        "id": "SalMZ6AlSlxz",
        "outputId": "0dbb396b-2df8-4fc2-cb9d-ba33fff7357b"
      },
      "outputs": [
        {
          "name": "stdout",
          "output_type": "stream",
          "text": [
            "orginal dataframe:\n",
            "   col1  col2  col3\n",
            "0     1     4     7\n",
            "1     2     5     8\n",
            "2     3     6     9\n",
            "\n",
            "New DataFrame after renaming columns:\n",
            "   column1  column2  column3\n",
            "0        1        4        7\n",
            "1        2        5        8\n",
            "2        3        6        9\n"
          ]
        }
      ],
      "source": [
        "import pandas as pd\n",
        "data={\"col1\":[1,2,3],\n",
        "      \"col2\":[4,5,6],\n",
        "      \"col3\":[7,8,9]}\n",
        "df=pd.DataFrame(data)\n",
        "print(\"orginal dataframe:\")\n",
        "print(df)\n",
        "newdf=df.rename(columns={'col1':'column1','col2':'column2','col3':'column3'})\n",
        "print(\"\\nNew DataFrame after renaming columns:\")\n",
        "print(newdf)"
      ]
    },
    {
      "cell_type": "markdown",
      "metadata": {
        "id": "BmgPjs26VAXE"
      },
      "source": [
        "18. Write a Pandas program to select rows from a given DataFrame based on values in some columns."
      ]
    },
    {
      "cell_type": "code",
      "execution_count": null,
      "metadata": {
        "colab": {
          "base_uri": "https://localhost:8080/"
        },
        "id": "lLgrWS2xVRrv",
        "outputId": "40df233b-87c6-4155-8e98-a8e6cb3d7949"
      },
      "outputs": [
        {
          "name": "stdout",
          "output_type": "stream",
          "text": [
            "orginal dataframe:\n",
            "   col1  col2  col3\n",
            "0     1     4     7\n",
            "1     4     5     8\n",
            "2     3     6     9\n",
            "3     4     7     0\n",
            "4     5     8     1\n",
            "\n",
            "Rows for colum1 value == 4\n",
            "   col1  col2  col3\n",
            "1     4     5     8\n",
            "3     4     7     0\n"
          ]
        }
      ],
      "source": [
        "import pandas as pd\n",
        "data={\"col1\":[1,4,3,4,5],\n",
        "      \"col2\":[4,5,6,7,8],\n",
        "      \"col3\":[7,8,9,0,1]}\n",
        "df=pd.DataFrame(data)\n",
        "print(\"orginal dataframe:\")\n",
        "print(df)\n",
        "newdf=df.loc[df['col1']==4]\n",
        "print(\"\\nRows for colum1 value == 4\")\n",
        "print(newdf)"
      ]
    },
    {
      "cell_type": "markdown",
      "metadata": {
        "id": "E2AsYaw-Xc4u"
      },
      "source": [
        "19. Write a Pandas program to add one row in an existing DataFrame."
      ]
    },
    {
      "cell_type": "code",
      "execution_count": null,
      "metadata": {
        "colab": {
          "base_uri": "https://localhost:8080/"
        },
        "id": "7v34tOntXjox",
        "outputId": "ff8b5742-f282-4424-81f5-47e7a1ac6f7a"
      },
      "outputs": [
        {
          "name": "stdout",
          "output_type": "stream",
          "text": [
            "orginal dataframe:\n",
            "   col1  col2  col3\n",
            "0     1     4     7\n",
            "1     4     5     8\n",
            "2     3     6     9\n",
            "3     4     7     0\n",
            "4     5     8     1\n",
            "\n",
            "After add one row:\n",
            "   col1  col2  col3\n",
            "0     1     4     7\n",
            "1     4     5     8\n",
            "2     3     6     9\n",
            "3     4     7     0\n",
            "4     5     8     1\n",
            "5    10    11    12\n"
          ]
        }
      ],
      "source": [
        "import pandas as pd\n",
        "data={\"col1\":[1,4,3,4,5],\n",
        "      \"col2\":[4,5,6,7,8],\n",
        "      \"col3\":[7,8,9,0,1]}\n",
        "df=pd.DataFrame(data)\n",
        "print(\"orginal dataframe:\")\n",
        "print(df)\n",
        "df.loc[len(df.index)]=[10,11,12]\n",
        "print(\"\\nAfter add one row:\")\n",
        "print(df)"
      ]
    },
    {
      "cell_type": "markdown",
      "metadata": {
        "id": "ZCUzQfwb2hwT"
      },
      "source": [
        "20.Write a Pandas program to replace all the NaN values with Zero's in a column of a dataframe.\n",
        "\n"
      ]
    },
    {
      "cell_type": "code",
      "execution_count": null,
      "metadata": {
        "colab": {
          "base_uri": "https://localhost:8080/"
        },
        "id": "iS7wcQjC3FhD",
        "outputId": "574c7b89-9faf-4e2a-c093-3273c9dcfadc"
      },
      "outputs": [
        {
          "name": "stdout",
          "output_type": "stream",
          "text": [
            "orginal dataframe:\n",
            "   attempts       name qualify   score\n",
            "a         1  Anastasia     yes    12.5\n",
            "b         3       Dima      no       9\n",
            "c         2  Katherine     yes    16.5\n",
            "d         3      James      no  np.nan\n",
            "e         2      Emily      no       9\n",
            "f         3    Michael     yes      20\n",
            "g         1    Matthew     yes    14.5\n",
            "h         1      Laura      no  np.nan\n",
            "i         2      Kevin      no       8\n",
            "j         1      Jonas     yes      19\n",
            "\n",
            "After eliminate the NaN value:\n",
            "   attempts       name qualify  score\n",
            "a         1  Anastasia     yes   12.5\n",
            "b         3       Dima      no    9.0\n",
            "c         2  Katherine     yes   16.5\n",
            "d         3      James      no    0.0\n",
            "e         2      Emily      no    9.0\n",
            "f         3    Michael     yes   20.0\n",
            "g         1    Matthew     yes   14.5\n",
            "h         1      Laura      no    0.0\n",
            "i         2      Kevin      no    8.0\n",
            "j         1      Jonas     yes   19.0\n"
          ]
        }
      ],
      "source": [
        "import pandas as pd\n",
        "data = {'attempts': [1, 3, 2, 3, 2, 3, 1, 1, 2, 1],\n",
        "        'name': ['Anastasia', 'Dima', 'Katherine', 'James', 'Emily', 'Michael', 'Matthew', 'Laura', 'Kevin', 'Jonas'],\n",
        "        'qualify': ['yes', 'no', 'yes', 'no', 'no', 'yes', 'yes', 'no', 'no', 'yes'],\n",
        "        'score': [12.5, 9, 16.5, \"np.nan\", 9, 20, 14.5, \"np.nan\", 8, 19]}\n",
        "df=pd.DataFrame(data,index=['a', 'b', 'c', 'd', 'e', 'f', 'g', 'h', 'i', 'j'])\n",
        "print(\"orginal dataframe:\")\n",
        "print(df)\n",
        "df['score'] =df['score'].replace(\"np.nan\", 0)\n",
        "print(\"\\nAfter eliminate the NaN value:\")\n",
        "print(df)"
      ]
    },
    {
      "cell_type": "markdown",
      "metadata": {
        "id": "r0DtVo2R58Yg"
      },
      "source": [
        "21.Write a Pandas program to count the NaN values in one or more columns in DataFrame."
      ]
    },
    {
      "cell_type": "code",
      "execution_count": null,
      "metadata": {
        "colab": {
          "base_uri": "https://localhost:8080/"
        },
        "id": "PlG1A8ba7Ndw",
        "outputId": "bcb94f39-6500-4ae5-e712-3cabc6eaf260"
      },
      "outputs": [
        {
          "name": "stdout",
          "output_type": "stream",
          "text": [
            "Original DataFrame\n",
            "        name  score  attempts qualify\n",
            "0  Anastasia   12.5         1     yes\n",
            "1       Dima    9.0         3      no\n",
            "2  Katherine   16.5         2     yes\n",
            "3      James    NaN         3      no\n",
            "4      Emily    9.0         2      no\n",
            "5    Michael   20.0         3     yes\n",
            "6    Matthew   14.5         1     yes\n",
            "7      Laura    NaN         1      no\n",
            "8      Kevin    8.0         2      no\n",
            "9      Jonas   19.0         1     yes\n",
            "\n",
            "Number of NaN values in one or more columns:\n",
            "2\n"
          ]
        }
      ],
      "source": [
        "import pandas as pd\n",
        "import numpy as np\n",
        "exam_data = {'name': ['Anastasia', 'Dima', 'Katherine', 'James', 'Emily', 'Michael', 'Matthew', 'Laura', 'Kevin', 'Jonas'],\n",
        "        'score': [12.5, 9, 16.5, np.nan, 9, 20, 14.5, np.nan, 8, 19],\n",
        "        'attempts': [1, 3, 2, 3, 2, 3, 1, 1, 2, 1],\n",
        "        'qualify': ['yes', 'no', 'yes', 'no', 'no', 'yes', 'yes', 'no', 'no', 'yes']}\n",
        "df = pd.DataFrame(exam_data)\n",
        "print(\"Original DataFrame\")\n",
        "print(df)\n",
        "print(\"\\nNumber of NaN values in one or more columns:\")\n",
        "print(df.isnull().values.sum())"
      ]
    },
    {
      "cell_type": "markdown",
      "metadata": {
        "id": "puHEUpz-IVC_"
      },
      "source": [
        "22.Write a Pandas program to drop a list of rows from a specified DataFrame."
      ]
    },
    {
      "cell_type": "code",
      "execution_count": null,
      "metadata": {
        "colab": {
          "base_uri": "https://localhost:8080/"
        },
        "id": "Ef69DjNRJK4e",
        "outputId": "dede27f8-4b5b-4fea-b46e-df8b29f8c791"
      },
      "outputs": [
        {
          "name": "stdout",
          "output_type": "stream",
          "text": [
            "orginal dataframe:\n",
            "   col1  col2  col3\n",
            "0     1     4     7\n",
            "1     4     5     8\n",
            "2     3     6     9\n",
            "3     4     7     0\n",
            "4     5     8     1\n",
            "\n",
            "New DataFrame after removing 2nd & 4th rows:\n",
            "   col1  col2  col3\n",
            "0     1     4     7\n",
            "1     4     5     8\n",
            "3     4     7     0\n"
          ]
        }
      ],
      "source": [
        "import pandas as pd\n",
        "data={\"col1\":[1,4,3,4,5],\n",
        "      \"col2\":[4,5,6,7,8],\n",
        "      \"col3\":[7,8,9,0,1]}\n",
        "df=pd.DataFrame(data)\n",
        "print(\"orginal dataframe:\")\n",
        "print(df)\n",
        "print(\"\\nNew DataFrame after removing 2nd & 4th rows:\")\n",
        "df=df.drop([2,4])\n",
        "print(df)"
      ]
    },
    {
      "cell_type": "markdown",
      "metadata": {
        "id": "lBUBoANWM5yk"
      },
      "source": [
        "23. . Write a Pandas program to convert DataFrame column type from string to datetime."
      ]
    },
    {
      "cell_type": "code",
      "execution_count": null,
      "metadata": {
        "colab": {
          "base_uri": "https://localhost:8080/"
        },
        "id": "pPvZfwrpOqNW",
        "outputId": "03df3fc0-4196-4828-ef5b-76fd376336a2"
      },
      "outputs": [
        {
          "name": "stdout",
          "output_type": "stream",
          "text": [
            "Original:\n",
            "0    3/11/2000\n",
            "1    3/12/2000\n",
            "2    3/13/2000\n",
            "dtype: object\n",
            "\n",
            "Original DataFrame (string to datetime):\n",
            "0   2000-03-11\n",
            "1   2000-03-12\n",
            "2   2000-03-13\n",
            "dtype: datetime64[ns]\n"
          ]
        }
      ],
      "source": [
        "import pandas as pd\n",
        "string=['3/11/2000','3/12/2000','3/13/2000']\n",
        "s=pd.Series(string)\n",
        "print(\"Original:\")\n",
        "print(s)\n",
        "news=pd.to_datetime(s)\n",
        "print(\"\\nOriginal DataFrame (string to datetime):\")\n",
        "print(news)"
      ]
    },
    {
      "cell_type": "markdown",
      "metadata": {
        "id": "xcTQR4XiP9gF"
      },
      "source": [
        "24.Write a Pandas program to find the row for where the value of a given column is maximum."
      ]
    },
    {
      "cell_type": "code",
      "execution_count": null,
      "metadata": {
        "colab": {
          "base_uri": "https://localhost:8080/"
        },
        "id": "z87NS2VHQMI2",
        "outputId": "f5a46f4b-9446-447f-8f1f-1b56eb2c0b10"
      },
      "outputs": [
        {
          "name": "stdout",
          "output_type": "stream",
          "text": [
            "orginal dataframe:\n",
            "   col1  col2  col3\n",
            "0     1     4     7\n",
            "1     2     5     8\n",
            "2     3     6    12\n",
            "3     4     9     1\n",
            "4     7     5    11\n",
            "\n",
            "Row where col1 has maximum value:\n",
            "4\n",
            "\n",
            "Row where col2 has maximum value:\n",
            "3\n",
            "\n",
            "Row where col3 has maximum value:\n",
            "2\n"
          ]
        }
      ],
      "source": [
        "import pandas as pd\n",
        "data={\"col1\":[1,2,3,4,7],\n",
        "      \"col2\":[4,5,6,9,5],\n",
        "      \"col3\":[7,8,12,1,11]}\n",
        "df=pd.DataFrame(data)\n",
        "print(\"orginal dataframe:\")\n",
        "print(df)\n",
        "print(\"\\nRow where col1 has maximum value:\")\n",
        "print(df[\"col1\"].argmax())\n",
        "print(\"\\nRow where col2 has maximum value:\")\n",
        "print(df[\"col2\"].argmax())\n",
        "print(\"\\nRow where col3 has maximum value:\")\n",
        "print(df[\"col3\"].argmax())"
      ]
    },
    {
      "cell_type": "markdown",
      "metadata": {
        "id": "hUBH2UEhSfzc"
      },
      "source": [
        "25. Write a Pandas program to get the datatypes of columns of a DataFrame."
      ]
    },
    {
      "cell_type": "code",
      "execution_count": null,
      "metadata": {
        "colab": {
          "base_uri": "https://localhost:8080/"
        },
        "id": "OhlxHrM1mOp9",
        "outputId": "bf0046d2-39d4-4e28-83e2-d4e1f312aba4"
      },
      "outputs": [
        {
          "name": "stdout",
          "output_type": "stream",
          "text": [
            "orginal dataframe:\n",
            "   attempts       name qualify   score\n",
            "a         1  Anastasia     yes    12.5\n",
            "b         3       Dima      no       9\n",
            "c         2  Katherine     yes    16.5\n",
            "d         3      James      no  np.nan\n",
            "e         2      Emily      no       9\n",
            "f         3    Michael     yes      20\n",
            "g         1    Matthew     yes    14.5\n",
            "h         1      Laura      no  np.nan\n",
            "i         2      Kevin      no       8\n",
            "j         1      Jonas     yes      19\n",
            "\n",
            "Data types of the columns of the said DataFrame:\n",
            "attempts     int64\n",
            "name        object\n",
            "qualify     object\n",
            "score       object\n",
            "dtype: object\n"
          ]
        }
      ],
      "source": [
        "import pandas as pd\n",
        "data = {'attempts': [1, 3, 2, 3, 2, 3, 1, 1, 2, 1],\n",
        "        'name': ['Anastasia', 'Dima', 'Katherine', 'James', 'Emily', 'Michael', 'Matthew', 'Laura', 'Kevin', 'Jonas'],\n",
        "        'qualify': ['yes', 'no', 'yes', 'no', 'no', 'yes', 'yes', 'no', 'no', 'yes'],\n",
        "        'score': [12.5, 9, 16.5, \"np.nan\", 9, 20, 14.5, \"np.nan\", 8, 19]}\n",
        "df=pd.DataFrame(data,index=['a', 'b', 'c', 'd', 'e', 'f', 'g', 'h', 'i', 'j'])\n",
        "print(\"orginal dataframe:\")\n",
        "print(df)\n",
        "print(\"\\nData types of the columns of the said DataFrame:\")\n",
        "print(df.dtypes)"
      ]
    },
    {
      "cell_type": "markdown",
      "metadata": {
        "id": "idy-sMfd2HVU"
      },
      "source": [
        "26. Write a Pandas program to group by the first column and get second column as lists in rows."
      ]
    },
    {
      "cell_type": "code",
      "execution_count": null,
      "metadata": {
        "colab": {
          "base_uri": "https://localhost:8080/"
        },
        "id": "2aZetctC2Ixc",
        "outputId": "cccdd810-c4a1-4026-c943-c5fb7f9c27c9"
      },
      "outputs": [
        {
          "name": "stdout",
          "output_type": "stream",
          "text": [
            "Original DataFrame:\n",
            "  col1  col2\n",
            "0   C1     1\n",
            "1   C1     2\n",
            "2   C2     3\n",
            "3   C2     3\n",
            "4   C2     4\n",
            "5   C3     6\n",
            "6   C2     5\n",
            "\n",
            "Group on the 'col1':\n",
            "col1\n",
            "C1          [1, 2]\n",
            "C2    [3, 3, 4, 5]\n",
            "C3             [6]\n",
            "Name: col2, dtype: object\n"
          ]
        }
      ],
      "source": [
        "import pandas as pd\n",
        "\n",
        "df = pd.DataFrame({\n",
        "    'col1': ['C1', 'C1', 'C2', 'C2', 'C2', 'C3', 'C2'],\n",
        "    'col2': [1, 2, 3, 3, 4, 6, 5]\n",
        "})\n",
        "\n",
        "print(\"Original DataFrame:\")\n",
        "print(df)\n",
        "\n",
        "df = df.groupby('col1')['col2'].apply(list)\n",
        "\n",
        "print(\"\\nGroup on the 'col1':\")\n",
        "print(df)"
      ]
    },
    {
      "cell_type": "markdown",
      "metadata": {
        "id": "i5dN554627my"
      },
      "source": [
        "27 Write a Pandas program to count number of columns of a DataFrame."
      ]
    },
    {
      "cell_type": "code",
      "execution_count": null,
      "metadata": {
        "colab": {
          "base_uri": "https://localhost:8080/"
        },
        "id": "7zWhfA7P2-q2",
        "outputId": "e9e6464e-1703-4859-812d-1b38e5a7e305"
      },
      "outputs": [
        {
          "name": "stdout",
          "output_type": "stream",
          "text": [
            "orginal dataframe:\n",
            "   col1  col2  col3\n",
            "0     1     4     7\n",
            "1     2     5     8\n",
            "2     3     6    12\n",
            "3     4     9     1\n",
            "4     7     5    11\n",
            "\n",
            "number of columns of a DataFrame:\n",
            "3\n"
          ]
        }
      ],
      "source": [
        "import pandas as pd\n",
        "data={\"col1\":[1,2,3,4,7],\n",
        "      \"col2\":[4,5,6,9,5],\n",
        "      \"col3\":[7,8,12,1,11]}\n",
        "df=pd.DataFrame(data)\n",
        "print(\"orginal dataframe:\")\n",
        "print(df)\n",
        "print(\"\\nnumber of columns of a DataFrame:\")\n",
        "print(df.shape[1])"
      ]
    },
    {
      "cell_type": "markdown",
      "metadata": {
        "id": "r1hIQBZP5V_f"
      },
      "source": [
        "28. Write a Pandas program to get first n records of a DataFrame."
      ]
    },
    {
      "cell_type": "code",
      "execution_count": null,
      "metadata": {
        "colab": {
          "base_uri": "https://localhost:8080/"
        },
        "id": "g7qZ4j6g5zwk",
        "outputId": "b31c3b70-5564-4e87-9592-bd91bf31736d"
      },
      "outputs": [
        {
          "name": "stdout",
          "output_type": "stream",
          "text": [
            "orginal DataFrame:\n",
            "   col1  col2  col3\n",
            "0     1     4     7\n",
            "1     2     5     5\n",
            "2     3     6     8\n",
            "3     4     9    12\n",
            "4     7     5     1\n",
            "5    11     0    11\n",
            "\n",
            " first 3 records of a DataFrame:\n",
            "   col1  col2  col3\n",
            "0     1     4     7\n",
            "1     2     5     5\n",
            "2     3     6     8\n"
          ]
        }
      ],
      "source": [
        "import pandas as pd\n",
        "data={\"col1\":[1,2,3,4,7,11],\n",
        "      \"col2\":[4,5,6,9,5,0],\n",
        "      \"col3\":[7,5,8,12,1,11]}\n",
        "df=pd.DataFrame(data)\n",
        "print(\"orginal DataFrame:\")\n",
        "print(df)\n",
        "n=3\n",
        "print(\"\\n first 3 records of a DataFrame:\")\n",
        "print(df.head(n))"
      ]
    },
    {
      "cell_type": "markdown",
      "metadata": {
        "id": "4QDTK2ab65Y1"
      },
      "source": [
        "29. Write a Pandas program to get last n records of a DataFrame."
      ]
    },
    {
      "cell_type": "code",
      "execution_count": null,
      "metadata": {
        "colab": {
          "base_uri": "https://localhost:8080/"
        },
        "id": "YhZLLV4L6-6B",
        "outputId": "9017786b-20c6-407f-d070-ef4ce8cb61fc"
      },
      "outputs": [
        {
          "name": "stdout",
          "output_type": "stream",
          "text": [
            "orginal DataFrame:\n",
            "   col1  col2  col3\n",
            "0     1     4     7\n",
            "1     2     5     5\n",
            "2     3     6     8\n",
            "3     4     9    12\n",
            "4     7     5     1\n",
            "5    11     0    11\n",
            "\n",
            " last 3 records of a DataFrame:\n",
            "   col1  col2  col3\n",
            "3     4     9    12\n",
            "4     7     5     1\n",
            "5    11     0    11\n"
          ]
        }
      ],
      "source": [
        "import pandas as pd\n",
        "data={\"col1\":[1,2,3,4,7,11],\n",
        "      \"col2\":[4,5,6,9,5,0],\n",
        "      \"col3\":[7,5,8,12,1,11]}\n",
        "df=pd.DataFrame(data)\n",
        "print(\"orginal DataFrame:\")\n",
        "print(df)\n",
        "n=3\n",
        "print(\"\\n last 3 records of a DataFrame:\")\n",
        "print(df.tail(n))"
      ]
    },
    {
      "cell_type": "markdown",
      "metadata": {
        "id": "Gd4EwG2d7P5r"
      },
      "source": [
        "30. Write a Pandas program to get topmost n records within each group of a DataFrame."
      ]
    },
    {
      "cell_type": "code",
      "execution_count": null,
      "metadata": {
        "colab": {
          "base_uri": "https://localhost:8080/"
        },
        "id": "BChUg5SC8ZfA",
        "outputId": "55956f30-959e-42fe-cb70-16a54dd2f1ae"
      },
      "outputs": [
        {
          "name": "stdout",
          "output_type": "stream",
          "text": [
            "orginal DataFrame:\n",
            "   col1  col2  col3\n",
            "0     1     4     7\n",
            "1     2     5     5\n",
            "2     3     6     8\n",
            "3     4     9    12\n",
            "4     7     5     1\n",
            "5    11     0    11\n",
            "\n",
            "topmost n records within each group of a DataFrame:\n",
            "   col1  col2  col3\n",
            "5    11     0    11\n",
            "4     7     5     1\n",
            "3     4     9    12\n",
            "   col1  col2  col3\n",
            "3     4     9    12\n",
            "2     3     6     8\n",
            "1     2     5     5\n",
            "   col1  col2  col3\n",
            "3     4     9    12\n",
            "5    11     0    11\n",
            "2     3     6     8\n"
          ]
        }
      ],
      "source": [
        "import pandas as pd\n",
        "data={\"col1\":[1,2,3,4,7,11],\n",
        "      \"col2\":[4,5,6,9,5,0],\n",
        "      \"col3\":[7,5,8,12,1,11]}\n",
        "df=pd.DataFrame(data)\n",
        "print(\"orginal DataFrame:\")\n",
        "print(df)\n",
        "print(\"\\ntopmost n records within each group of a DataFrame:\")\n",
        "df1=df.nlargest(3,\"col1\")\n",
        "print(df1)\n",
        "df2=df.nlargest(3,\"col2\")\n",
        "print(df2)\n",
        "df3=df.nlargest(3,\"col3\")\n",
        "print(df3)"
      ]
    },
    {
      "cell_type": "markdown",
      "metadata": {
        "id": "cZYuohZb9972"
      },
      "source": [
        "31. Write a Pandas program to add a prefix or suffix to all columns of a given DataFrame."
      ]
    },
    {
      "cell_type": "code",
      "execution_count": null,
      "metadata": {
        "colab": {
          "base_uri": "https://localhost:8080/"
        },
        "id": "6-RUbwVH-l-3",
        "outputId": "bcdbbcff-6321-4aa4-e7c8-52f792ef7afb"
      },
      "outputs": [
        {
          "name": "stdout",
          "output_type": "stream",
          "text": [
            "    w   x   y   z\n",
            "0  68  78  84  86\n",
            "1  75  85  94  97\n",
            "2  86  96  89  96\n",
            "3  80  80  83  72\n",
            "4  66  86  86  83\n",
            "\n",
            "Add a prefix to all columns of a given DataFrame.\n",
            "   A_w  A_x  A_y  A_z\n",
            "0   68   78   84   86\n",
            "1   75   85   94   97\n",
            "2   86   96   89   96\n",
            "3   80   80   83   72\n",
            "4   66   86   86   83\n",
            "\n",
            "Add a suffix to all columns of a given DataFrame.\n",
            "   w_1  x_1  y_1  z_1\n",
            "0   68   78   84   86\n",
            "1   75   85   94   97\n",
            "2   86   96   89   96\n",
            "3   80   80   83   72\n",
            "4   66   86   86   83\n"
          ]
        }
      ],
      "source": [
        "import pandas as pd\n",
        "data={'w':[68,75,86,80,66],\n",
        "      'x':[78,85,96,80,86],\n",
        "      'y':[84,94,89,83,86],\n",
        "      'z':[86,97,96,72,83]}\n",
        "df=pd.DataFrame(data)\n",
        "print(df)\n",
        "print(\"\\nAdd a prefix to all columns of a given DataFrame.\")\n",
        "df1=df.add_prefix(\"A_\")\n",
        "print(df1)\n",
        "print(\"\\nAdd a suffix to all columns of a given DataFrame.\")\n",
        "df2=df.add_suffix(\"_1\")\n",
        "print(df2)"
      ]
    },
    {
      "cell_type": "markdown",
      "metadata": {
        "id": "VXt-KcubA6CH"
      },
      "source": [
        "32. Write a Pandas program to convert continuous values of a column in a given DataFrame to categorical."
      ]
    },
    {
      "cell_type": "code",
      "execution_count": null,
      "metadata": {
        "colab": {
          "base_uri": "https://localhost:8080/"
        },
        "id": "z-VVWg6FBiLt",
        "outputId": "0144d45e-a775-4d0e-cca3-cce07bcf3d2a"
      },
      "outputs": [
        {
          "name": "stdout",
          "output_type": "stream",
          "text": [
            "Original DataFrame:\n",
            "             name  age\n",
            "0  Alberto Franco   18\n",
            "1    Gino Mcneill   22\n",
            "2     Ryan Parkes   85\n",
            "3    Eesha Hinton   50\n",
            "4    Syed Wharton   80\n",
            "5   Kierra Gentry    5\n",
            "\n",
            "Age group:\n",
            "0       kids\n",
            "1      adult\n",
            "2    elderly\n",
            "3      adult\n",
            "4    elderly\n",
            "5       kids\n",
            "Name: age_groups, dtype: category\n",
            "Categories (3, object): ['kids' < 'adult' < 'elderly']\n"
          ]
        }
      ],
      "source": [
        "import pandas as pd\n",
        "df = pd.DataFrame({\n",
        "    'name': ['Alberto Franco','Gino Mcneill','Ryan Parkes', 'Eesha Hinton', 'Syed Wharton', 'Kierra Gentry'],\n",
        "      'age': [18, 22, 85, 50, 80, 5]})\n",
        "print(\"Original DataFrame:\")\n",
        "print(df)\n",
        "print('\\nAge group:')\n",
        "df[\"age_groups\"] = pd.cut(df[\"age\"], bins = [0, 18, 65, 99], labels = [\"kids\", \"adult\", \"elderly\"])\n",
        "print(df[\"age_groups\"])"
      ]
    },
    {
      "cell_type": "markdown",
      "metadata": {
        "id": "UdZ0Hc_ICJmV"
      },
      "source": [
        "33. Write a Pandas program to append rows to an existing DataFrame and display the combined data."
      ]
    },
    {
      "cell_type": "code",
      "execution_count": null,
      "metadata": {
        "colab": {
          "base_uri": "https://localhost:8080/"
        },
        "id": "oD0TwEYhCs7Z",
        "outputId": "27330a44-976e-4396-ac55-9c731d3e1f74"
      },
      "outputs": [
        {
          "name": "stdout",
          "output_type": "stream",
          "text": [
            "  student_id              name  marks\n",
            "0         s1  Danniella Fenton    200\n",
            "1         s2      Ryder Storey    210\n",
            "2         s3      Bryce Jensen    190\n",
            "3         s4         Ed Bernal    222\n",
            "4         s5       Kwame Morin    199\n",
            "\n",
            "New Row:\n",
            "student_id                  S6\n",
            "name          Scarlette Fisher\n",
            "marks                      205\n",
            "dtype: object\n",
            "\n",
            "combined data:\n",
            "  student_id              name  marks\n",
            "0         s1  Danniella Fenton    200\n",
            "1         s2      Ryder Storey    210\n",
            "2         s3      Bryce Jensen    190\n",
            "3         s4         Ed Bernal    222\n",
            "4         s5       Kwame Morin    199\n",
            "5         S6  Scarlette Fisher    205\n"
          ]
        },
        {
          "name": "stderr",
          "output_type": "stream",
          "text": [
            "<ipython-input-25-976977c95146>:11: FutureWarning: The frame.append method is deprecated and will be removed from pandas in a future version. Use pandas.concat instead.\n",
            "  ndata=df.append(s6, ignore_index = True)\n"
          ]
        }
      ],
      "source": [
        "import pandas as pd\n",
        "student_data={'student_id':['s1','s2','s3','s4','s5'],\n",
        "              'name':['Danniella Fenton','Ryder Storey','Bryce Jensen',' Ed Bernal','Kwame Morin'],\n",
        "              'marks':[200,210,190,222,199]}\n",
        "df=pd.DataFrame(student_data)\n",
        "print(df)\n",
        "print(\"\\nNew Row:\")\n",
        "s6=pd.Series(['S6', 'Scarlette Fisher', 205],index=['student_id', 'name', 'marks'])\n",
        "print(s6)\n",
        "print(\"\\ncombined data:\")\n",
        "ndata=df.append(s6, ignore_index = True)\n",
        "print(ndata)"
      ]
    },
    {
      "cell_type": "markdown",
      "metadata": {
        "id": "6POTviY-HI6o"
      },
      "source": [
        "34 Write a Pandas program to join the two given dataframes along rows and merge with another dataframe along the common column id."
      ]
    },
    {
      "cell_type": "code",
      "execution_count": null,
      "metadata": {
        "colab": {
          "base_uri": "https://localhost:8080/"
        },
        "id": "xUkLaL6L7g2g",
        "outputId": "591a2ecc-66c7-4e96-9310-b7d35a0bf571"
      },
      "outputs": [
        {
          "name": "stdout",
          "output_type": "stream",
          "text": [
            "\n",
            "Join first two said dataframes along rows:\n",
            "  student_id              name  marks\n",
            "0         S1  Danniella Fenton    200\n",
            "1         S2      Ryder Storey    210\n",
            "2         S3      Bryce Jensen    190\n",
            "3         S4         Ed Bernal    222\n",
            "4         S5       Kwame Morin    199\n",
            "0         S4  Scarlette Fisher    201\n",
            "1         S5  Carla Williamson    200\n",
            "2         S6       Dante Morse    198\n",
            "3         S7    Kaiser William    219\n",
            "4         S8   Madeeha Preston    201\n",
            "\n",
            "Now join the said result_data and df_exam_data along student_id:\n",
            "  student_id              name  marks  exam_id\n",
            "0         S1  Danniella Fenton    200       23\n",
            "1         S2      Ryder Storey    210       45\n",
            "2         S3      Bryce Jensen    190       12\n",
            "3         S4         Ed Bernal    222       67\n",
            "4         S4  Scarlette Fisher    201       67\n",
            "5         S5       Kwame Morin    199       21\n",
            "6         S5  Carla Williamson    200       21\n",
            "7         S7    Kaiser William    219       55\n",
            "8         S8   Madeeha Preston    201       33\n"
          ]
        }
      ],
      "source": [
        "import pandas as pd\n",
        "student_data1 = pd.DataFrame({\n",
        "        'student_id': ['S1', 'S2', 'S3', 'S4', 'S5'],\n",
        "         'name': ['Danniella Fenton', 'Ryder Storey', 'Bryce Jensen', 'Ed Bernal', 'Kwame Morin'],\n",
        "        'marks': [200, 210, 190, 222, 199]})\n",
        "\n",
        "student_data2 = pd.DataFrame({\n",
        "        'student_id': ['S4', 'S5', 'S6', 'S7', 'S8'],\n",
        "        'name': ['Scarlette Fisher', 'Carla Williamson', 'Dante Morse', 'Kaiser William', 'Madeeha Preston'],\n",
        "        'marks': [201, 200, 198, 219, 201]})\n",
        "\n",
        "exam_data = pd.DataFrame({\n",
        "        'student_id': ['S1', 'S2', 'S3', 'S4', 'S5', 'S7', 'S8', 'S9', 'S10', 'S11', 'S12', 'S13'],\n",
        "        'exam_id': [23, 45, 12, 67, 21, 55, 33, 14, 56, 83, 88, 12]})\n",
        "\n",
        "print(\"\\nJoin first two said dataframes along rows:\")\n",
        "result_data = pd.concat([student_data1, student_data2])\n",
        "print(result_data)\n",
        "\n",
        "print(\"\\nNow join the said result_data and df_exam_data along student_id:\")\n",
        "final_merged_data = pd.merge(result_data, exam_data, on='student_id')\n",
        "print(final_merged_data)\n"
      ]
    }
  ],
  "metadata": {
    "colab": {
      "provenance": []
    },
    "kernelspec": {
      "display_name": "Python 3",
      "name": "python3"
    },
    "language_info": {
      "codemirror_mode": {
        "name": "ipython",
        "version": 3
      },
      "file_extension": ".py",
      "mimetype": "text/x-python",
      "name": "python",
      "nbconvert_exporter": "python",
      "pygments_lexer": "ipython3",
      "version": "3.12.0"
    }
  },
  "nbformat": 4,
  "nbformat_minor": 0
}
