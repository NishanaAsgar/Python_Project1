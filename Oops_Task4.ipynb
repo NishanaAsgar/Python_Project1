{
  "nbformat": 4,
  "nbformat_minor": 0,
  "metadata": {
    "colab": {
      "provenance": []
    },
    "kernelspec": {
      "name": "python3",
      "display_name": "Python 3"
    },
    "language_info": {
      "name": "python"
    }
  },
  "cells": [
    {
      "cell_type": "markdown",
      "source": [
        "1.  Write a Python program to create a class representing a Circle. Include methods to calculate its area and perimeter.\n"
      ],
      "metadata": {
        "id": "0CuwCYnbofdy"
      }
    },
    {
      "cell_type": "code",
      "source": [
        "import math\n",
        "\n",
        "class circle:\n",
        "\n",
        "\n",
        "  def __init__(self,r):\n",
        "    self.r=r\n",
        "\n",
        "  def calculatearea(self):\n",
        "    return math.pi*self.r*self.r\n",
        "\n",
        "  def calculateperimete(self):\n",
        "    return 2*math.pi*self.r\n",
        "\n",
        "r=4\n",
        "c=circle(r)\n",
        "area=c.calculatearea()\n",
        "perimeter=c.calculateperimete()\n",
        "\n",
        "print(\"Area of circle:\",area)\n",
        "print(\"perimeter of circle:\",perimeter)"
      ],
      "metadata": {
        "colab": {
          "base_uri": "https://localhost:8080/"
        },
        "id": "hdkwETlDomKG",
        "outputId": "2fc10e33-30e0-4af5-dc10-c4e7b51c4b37"
      },
      "execution_count": 6,
      "outputs": [
        {
          "output_type": "stream",
          "name": "stdout",
          "text": [
            "Area of circle: 50.26548245743669\n",
            "perimeter of circle: 25.132741228718345\n"
          ]
        }
      ]
    },
    {
      "cell_type": "markdown",
      "source": [
        "2. Write a Python program to create a calculator class. Include methods for basic arithmetic operations.\n"
      ],
      "metadata": {
        "id": "NVQ_xfndwSw5"
      }
    },
    {
      "cell_type": "code",
      "source": [
        "class calculator:\n",
        "\n",
        "    def __init__(self,a,b):\n",
        "      self.a=a\n",
        "      self.b=b\n",
        "\n",
        "    def addition(self):\n",
        "      return self.a+self.b\n",
        "\n",
        "    def Subtraction(self):\n",
        "      return self.a-self.b\n",
        "\n",
        "    def Multiplication(self):\n",
        "      return self.a*self.b\n",
        "\n",
        "    def Division(self):\n",
        "      return self.a/self.b\n",
        "\n",
        "    def Modulus(self):\n",
        "      return self.a % self.b\n",
        "\n",
        "a=20\n",
        "b=10\n",
        "c=calculator(a,b)\n",
        "sum=c.addition()\n",
        "s=c.Subtraction()\n",
        "m=c.Multiplication()\n",
        "d=c.Division()\n",
        "mod=c.Modulus()\n",
        "print(\"sum=\",sum)\n",
        "print(\"Subtraction=\",s)\n",
        "print(\"Multiplication=\",m)\n",
        "print(\"Division=\",d)\n",
        "print(\"Modulus=\",mod)"
      ],
      "metadata": {
        "colab": {
          "base_uri": "https://localhost:8080/"
        },
        "id": "nRmIzbE9xaKk",
        "outputId": "89fb1cba-5ac8-4755-8627-1b75c98d281d"
      },
      "execution_count": 9,
      "outputs": [
        {
          "output_type": "stream",
          "name": "stdout",
          "text": [
            "sum= 30\n",
            "Subtraction= 10\n",
            "Multiplication= 200\n",
            "Division= 2.0\n",
            "Modulus= 0\n"
          ]
        }
      ]
    },
    {
      "cell_type": "markdown",
      "source": [
        "3. Write a Python program to create a class that represents a shape. Include methods to calculate its area and perimeter. Implement subclasses for different shapes like circle, triangle, and square.\n"
      ],
      "metadata": {
        "id": "K8PlWWFw0KWe"
      }
    },
    {
      "cell_type": "code",
      "source": [
        "import math\n",
        "\n",
        "class shape:\n",
        "\n",
        "  def calculatearea(self):\n",
        "    pass\n",
        "\n",
        "  def calculateperimete(self):\n",
        "    pass\n",
        "class circle(shape):\n",
        "\n",
        "\n",
        "  def __init__(self,r):\n",
        "    self.r=r\n",
        "\n",
        "  def calculatearea(self):\n",
        "    return math.pi*self.r*self.r\n",
        "\n",
        "  def calculateperimete(self):\n",
        "    return 2*math.pi*self.r\n",
        "\n",
        "class triangle(shape):\n",
        "\n",
        "\n",
        "  def __init__(self,h,a,b,c):\n",
        "    self.h=h\n",
        "    self.b=b\n",
        "    self.a=a\n",
        "    self.c=c\n",
        "  def calculatearea(self):\n",
        "    return 0.5*self.b*self.h\n",
        "\n",
        "  def calculateperimete(self):\n",
        "    return self.a+self.b+self.c\n",
        "\n",
        "class square(shape):\n",
        "\n",
        "\n",
        "  def __init__(self,a):\n",
        "    self.a=a\n",
        "\n",
        "  def calculatearea(self):\n",
        "    return self.a*self.a\n",
        "\n",
        "  def calculateperimete(self):\n",
        "    return 4*self.a\n",
        "\n",
        "r=4\n",
        "c=circle(r)\n",
        "area=c.calculatearea()\n",
        "perimeter=c.calculateperimete()\n",
        "print(\"Circle Area:\",area)\n",
        "print(\"Circle Perimeter:\",perimeter)\n",
        "\n",
        "h=5\n",
        "a=4\n",
        "b=6\n",
        "c=4\n",
        "t=triangle(h,a,b,c)\n",
        "area=t.calculatearea()\n",
        "perimeter=t.calculateperimete()\n",
        "print(\"Triangle Area:\", area)\n",
        "print(\"Triangle Perimeter:\", perimeter)\n",
        "\n",
        "a=4\n",
        "s=square(a)\n",
        "area=s.calculatearea()\n",
        "perimeter=s.calculateperimete()\n",
        "print(\"Square Area:\", area)\n",
        "print(\"Square Perimeter:\", perimeter)\n"
      ],
      "metadata": {
        "colab": {
          "base_uri": "https://localhost:8080/"
        },
        "id": "xwlUzaDR0UY2",
        "outputId": "4e47338c-874c-4be5-8a1f-77df3da3df3d"
      },
      "execution_count": 1,
      "outputs": [
        {
          "output_type": "stream",
          "name": "stdout",
          "text": [
            "Circle Area: 50.26548245743669\n",
            "Circle Perimeter: 25.132741228718345\n",
            "Triangle Area: 15.0\n",
            "Triangle Perimeter: 14\n",
            "Square Area: 16\n",
            "Square Perimeter: 16\n"
          ]
        }
      ]
    }
  ]
}