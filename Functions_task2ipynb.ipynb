{
  "nbformat": 4,
  "nbformat_minor": 0,
  "metadata": {
    "colab": {
      "provenance": []
    },
    "kernelspec": {
      "name": "python3",
      "display_name": "Python 3"
    },
    "language_info": {
      "name": "python"
    }
  },
  "cells": [
    {
      "cell_type": "code",
      "execution_count": null,
      "metadata": {
        "id": "EunO8ELNZxVc"
      },
      "outputs": [],
      "source": [
        "1: Create a function with a default argument\n"
      ]
    },
    {
      "cell_type": "code",
      "source": [
        "def showemployee(name,salary):\n",
        "  print(name+\" \"+\"salary:\"+salary)\n",
        "\n",
        "showemployee(\"Ben\",\"12000\")\n",
        "showemployee(\"Jessa\",\"9000\")"
      ],
      "metadata": {
        "colab": {
          "base_uri": "https://localhost:8080/"
        },
        "id": "70gqeatsaUvG",
        "outputId": "b5a7e5e1-f1e4-4e47-ae8a-e4f396c817d2"
      },
      "execution_count": null,
      "outputs": [
        {
          "output_type": "stream",
          "name": "stdout",
          "text": [
            "Ben salary:12000\n",
            "Jessa salary:9000\n"
          ]
        }
      ]
    },
    {
      "cell_type": "markdown",
      "source": [
        "2: Create an inner function to calculate the addition in the following way\n"
      ],
      "metadata": {
        "id": "IBaurOoYZCBn"
      }
    },
    {
      "cell_type": "code",
      "source": [
        "s=0\n",
        "def Total(a,b):\n",
        "  print(\"1st number:\",a)\n",
        "  print(\"2nd number:\",b)\n",
        "\n",
        "  def sum():\n",
        "     s=a+b\n",
        "     return s\n",
        "\n",
        "  result=sum()+5\n",
        "  return result\n",
        "\n",
        "Total(20,40)\n"
      ],
      "metadata": {
        "colab": {
          "base_uri": "https://localhost:8080/"
        },
        "id": "8j-MRt9tZILh",
        "outputId": "00e756a7-ef18-426e-ba10-c712f4ca419c"
      },
      "execution_count": null,
      "outputs": [
        {
          "output_type": "stream",
          "name": "stdout",
          "text": [
            "1st number: 20\n",
            "2nd number: 40\n"
          ]
        },
        {
          "output_type": "execute_result",
          "data": {
            "text/plain": [
              "65"
            ]
          },
          "metadata": {},
          "execution_count": 7
        }
      ]
    },
    {
      "cell_type": "markdown",
      "source": [
        "3: Generate a Python list of all the even numbers between 4 to 30\n"
      ],
      "metadata": {
        "id": "O6FHsm5zDPjX"
      }
    },
    {
      "cell_type": "code",
      "source": [
        "num=0\n",
        "def even():\n",
        "  for num in range(4,31):\n",
        "    if(num%2==0):\n",
        "      num=list[num]\n",
        "      print(num)\n",
        "\n",
        "even()\n"
      ],
      "metadata": {
        "colab": {
          "base_uri": "https://localhost:8080/"
        },
        "id": "kVPQja18DQp5",
        "outputId": "50f12df3-4b63-4ae3-c2ce-6d2dababc311"
      },
      "execution_count": null,
      "outputs": [
        {
          "output_type": "stream",
          "name": "stdout",
          "text": [
            "list[4]\n",
            "list[6]\n",
            "list[8]\n",
            "list[10]\n",
            "list[12]\n",
            "list[14]\n",
            "list[16]\n",
            "list[18]\n",
            "list[20]\n",
            "list[22]\n",
            "list[24]\n",
            "list[26]\n",
            "list[28]\n",
            "list[30]\n"
          ]
        }
      ]
    },
    {
      "cell_type": "markdown",
      "source": [
        "Exercise 4: Lambda Function to Check if value is in a List\n"
      ],
      "metadata": {
        "id": "kW_knmO6L0T7"
      }
    },
    {
      "cell_type": "code",
      "source": [
        "def findnumber(n, v):\n",
        "    result = list(filter(lambda x: x == v,n))\n",
        "    print(\"input:\",n)\n",
        "    print(\"element:\",v)\n",
        "    if result:\n",
        "        print(\"Value found in the list.\")\n",
        "    else:\n",
        "        print(\"Value not found in the list.\")\n",
        "n = [1, 2, 3, 4, 5]\n",
        "v = 3\n",
        "findnumber(n,v)\n",
        "n=[1,2,3,4,5]\n",
        "v=7\n",
        "findnumber(n,v)"
      ],
      "metadata": {
        "id": "i2cdYIvkXM93",
        "colab": {
          "base_uri": "https://localhost:8080/"
        },
        "outputId": "dcbe0668-a409-46a9-f5c8-5d7d051716c3"
      },
      "execution_count": 1,
      "outputs": [
        {
          "output_type": "stream",
          "name": "stdout",
          "text": [
            "input: [1, 2, 3, 4, 5]\n",
            "element: 3\n",
            "Value found in the list.\n",
            "input: [1, 2, 3, 4, 5]\n",
            "element: 7\n",
            "Value not found in the list.\n"
          ]
        }
      ]
    },
    {
      "cell_type": "markdown",
      "source": [
        "Exercise 5: Sort list of tuples with their sum\n"
      ],
      "metadata": {
        "id": "EYU4zZ1d2cO4"
      }
    },
    {
      "cell_type": "code",
      "source": [
        "T= [(1, 2), (5, 3), (0, 7), (3, 1)]\n",
        "print(\"Input: \",T)\n",
        "\n",
        "T.sort(key =lambda x:x[0]+x[1])\n",
        "print(\"output:\",T)\n"
      ],
      "metadata": {
        "colab": {
          "base_uri": "https://localhost:8080/"
        },
        "id": "LoYOJqgI2die",
        "outputId": "1ae3a733-9713-46da-bf0a-4891d5866029"
      },
      "execution_count": 5,
      "outputs": [
        {
          "output_type": "stream",
          "name": "stdout",
          "text": [
            "Input:  [(1, 2), (5, 3), (0, 7), (3, 1)]\n",
            "output: [(1, 2), (3, 1), (0, 7), (5, 3)]\n"
          ]
        }
      ]
    },
    {
      "cell_type": "markdown",
      "source": [
        "Exercise 6 :\n",
        "Write a python function, which will find all such numbers between 1000 and 3000 (both included) such that each digit of the number is an even number. Return the results as a list\n"
      ],
      "metadata": {
        "id": "fi2O7bHD6XSx"
      }
    },
    {
      "cell_type": "code",
      "source": [
        "def evennumber():\n",
        "    for n in range(1000,3001):\n",
        "\n",
        "        strnum = list(str(n))\n",
        "\n",
        "        all_even = True\n",
        "\n",
        "        for x in strnum:\n",
        "\n",
        "            if int(x) % 2 != 0:\n",
        "\n",
        "                all_even = False\n",
        "\n",
        "        if all_even:\n",
        "            print(n, \",\", end = \"\")\n",
        "\n",
        "\n",
        "evennumber()"
      ],
      "metadata": {
        "colab": {
          "base_uri": "https://localhost:8080/"
        },
        "id": "v4FYXqPT6YgT",
        "outputId": "92618f2e-600f-4105-efc3-e719a50251d5"
      },
      "execution_count": 22,
      "outputs": [
        {
          "output_type": "stream",
          "name": "stdout",
          "text": [
            "2000 ,2002 ,2004 ,2006 ,2008 ,2020 ,2022 ,2024 ,2026 ,2028 ,2040 ,2042 ,2044 ,2046 ,2048 ,2060 ,2062 ,2064 ,2066 ,2068 ,2080 ,2082 ,2084 ,2086 ,2088 ,2200 ,2202 ,2204 ,2206 ,2208 ,2220 ,2222 ,2224 ,2226 ,2228 ,2240 ,2242 ,2244 ,2246 ,2248 ,2260 ,2262 ,2264 ,2266 ,2268 ,2280 ,2282 ,2284 ,2286 ,2288 ,2400 ,2402 ,2404 ,2406 ,2408 ,2420 ,2422 ,2424 ,2426 ,2428 ,2440 ,2442 ,2444 ,2446 ,2448 ,2460 ,2462 ,2464 ,2466 ,2468 ,2480 ,2482 ,2484 ,2486 ,2488 ,2600 ,2602 ,2604 ,2606 ,2608 ,2620 ,2622 ,2624 ,2626 ,2628 ,2640 ,2642 ,2644 ,2646 ,2648 ,2660 ,2662 ,2664 ,2666 ,2668 ,2680 ,2682 ,2684 ,2686 ,2688 ,2800 ,2802 ,2804 ,2806 ,2808 ,2820 ,2822 ,2824 ,2826 ,2828 ,2840 ,2842 ,2844 ,2846 ,2848 ,2860 ,2862 ,2864 ,2866 ,2868 ,2880 ,2882 ,2884 ,2886 ,2888 ,"
          ]
        }
      ]
    },
    {
      "cell_type": "markdown",
      "source": [
        "Exercise 7 :Write a python function that accepts a sentence and calculate and return the number of letters and digits.\n"
      ],
      "metadata": {
        "id": "IhtfLSU1A6cE"
      }
    },
    {
      "cell_type": "code",
      "source": [
        "def countdigitsletters(st):\n",
        "    count=0\n",
        "    num=0\n",
        "    for i in st:\n",
        "        if i.isalpha():\n",
        "            count+=1\n",
        "        elif i.isnumeric():\n",
        "            num+=1\n",
        "\n",
        "\n",
        "    print(\"number of digit in the sentence:\",num)\n",
        "    print(\"number of letters in the sentence:\",count)\n",
        "\n",
        "countdigitsletters(\"hello world 123\")\n",
        "countdigitsletters(\"world of python 56789\")\n",
        ""
      ],
      "metadata": {
        "colab": {
          "base_uri": "https://localhost:8080/"
        },
        "id": "yLA_Plz_3OM7",
        "outputId": "86eef1ca-5bbd-42d5-c61c-7b8488c473bf"
      },
      "execution_count": 4,
      "outputs": [
        {
          "output_type": "stream",
          "name": "stdout",
          "text": [
            "number of digit in the sentence: 3\n",
            "number of letters in the sentence: 10\n",
            "number of digit in the sentence: 5\n",
            "number of letters in the sentence: 13\n"
          ]
        }
      ]
    },
    {
      "cell_type": "markdown",
      "source": [
        "Exercise 8  MAP:\n",
        "Write a Python program to convert all the characters into uppercase and lowercase and eliminate duplicate letters from a given sequence. Use the map() function\n"
      ],
      "metadata": {
        "id": "j_tsFUdX9o34"
      }
    },
    {
      "cell_type": "code",
      "source": [
        "def myfunc(n):\n",
        "  return str(n).upper()\n",
        "def myfunc1(n):\n",
        "  return str(n).lower()\n",
        "\n",
        "\n",
        "\n",
        "st=(\"hello welcome to the world of python\")\n",
        "x = map(myfunc, st)\n",
        "print(list(x))\n",
        "y = map(myfunc1, st)\n",
        "print(list(y))\n"
      ],
      "metadata": {
        "colab": {
          "base_uri": "https://localhost:8080/"
        },
        "id": "sYl36y8r90tP",
        "outputId": "cc827dc6-21fb-40d8-ba8b-2be0e68bb822"
      },
      "execution_count": 17,
      "outputs": [
        {
          "output_type": "stream",
          "name": "stdout",
          "text": [
            "['H', 'E', 'L', 'L', 'O', ' ', 'W', 'E', 'L', 'C', 'O', 'M', 'E', ' ', 'T', 'O', ' ', 'T', 'H', 'E', ' ', 'W', 'O', 'R', 'L', 'D', ' ', 'O', 'F', ' ', 'P', 'Y', 'T', 'H', 'O', 'N']\n",
            "['h', 'e', 'l', 'l', 'o', ' ', 'w', 'e', 'l', 'c', 'o', 'm', 'e', ' ', 't', 'o', ' ', 't', 'h', 'e', ' ', 'w', 'o', 'r', 'l', 'd', ' ', 'o', 'f', ' ', 'p', 'y', 't', 'h', 'o', 'n']\n"
          ]
        }
      ]
    },
    {
      "cell_type": "markdown",
      "source": [
        "Exercise 9:Write a Python program to element wise add two given lists and find the difference between them. Use the map() function\n"
      ],
      "metadata": {
        "id": "hL0VNvTDmgU0"
      }
    },
    {
      "cell_type": "code",
      "source": [
        "l1=[1,3,5,6,8]\n",
        "l2=[0,2,3,4,7]\n",
        "add=list(map(lambda x,y:x+y,l1,l2))\n",
        "diffrence=list(map(lambda x,y:x-y,l1,l2))\n",
        "print(\"Add:\",add)\n",
        "print(\"Diffrence:\",diffrence)"
      ],
      "metadata": {
        "colab": {
          "base_uri": "https://localhost:8080/"
        },
        "id": "-D1Oow7IBAac",
        "outputId": "97090a24-34b2-41c2-9b74-fb319ec4b402"
      },
      "execution_count": 7,
      "outputs": [
        {
          "output_type": "stream",
          "name": "stdout",
          "text": [
            "Add: [1, 5, 8, 10, 15]\n",
            "Diffrence: [1, 1, 2, 2, 1]\n"
          ]
        }
      ]
    },
    {
      "cell_type": "markdown",
      "source": [
        "Exercise 10 Filter:\n",
        "Write a Python program to filter the height and weight of students, which are stored in a dictionary using lambda.\n"
      ],
      "metadata": {
        "id": "Uj9GNaTFdeKo"
      }
    },
    {
      "cell_type": "code",
      "source": [
        "d={'Cierra Vega': (6.2, 71), 'Alden Cantrell': (5.9, 65), 'Kierra Gentry': (6.0, 68), 'Pierre Cox': (5.8, 66)}\n",
        "filterdata=dict(filter(lambda item: (item[1][0],item[1][1]) > (6.0 , 70), d.items()))\n",
        "print(d)\n",
        "print(\"\\nHeight > 6ft and Weight > 70kg:\",filterdata)\n",
        "print()"
      ],
      "metadata": {
        "colab": {
          "base_uri": "https://localhost:8080/"
        },
        "id": "BBMAQTZtdjFU",
        "outputId": "6f080ac5-9eb7-4a21-de93-a69034e7b9e3"
      },
      "execution_count": 24,
      "outputs": [
        {
          "output_type": "stream",
          "name": "stdout",
          "text": [
            "{'Cierra Vega': (6.2, 71), 'Alden Cantrell': (5.9, 65), 'Kierra Gentry': (6.0, 68), 'Pierre Cox': (5.8, 66)}\n",
            "\n",
            "Height > 6ft and Weight > 70kg: {'Cierra Vega': (6.2, 71)}\n",
            "\n"
          ]
        }
      ]
    },
    {
      "cell_type": "markdown",
      "source": [
        "Exercise 11 Filter:\n",
        "Write a Python program to remove all elements from a given list present in another list using lambda.\n"
      ],
      "metadata": {
        "id": "z6HQXbtHiIC8"
      }
    },
    {
      "cell_type": "code",
      "source": [
        "list1=[1, 2, 3, 4, 5, 6, 7, 8, 9, 10]\n",
        "list2=[2, 4, 6, 8]\n",
        "filterdata=list(filter(lambda x:x not in list2,list1))\n",
        "print(\"The filterd data:\",filterdata)"
      ],
      "metadata": {
        "colab": {
          "base_uri": "https://localhost:8080/"
        },
        "id": "5zUlXqdkiMX-",
        "outputId": "ffd322b8-f7f3-47d4-b3af-2abd7bffcdae"
      },
      "execution_count": 27,
      "outputs": [
        {
          "output_type": "stream",
          "name": "stdout",
          "text": [
            "The filterd data: [1, 3, 5, 7, 9, 10]\n"
          ]
        }
      ]
    },
    {
      "cell_type": "markdown",
      "source": [
        "Exercise 12 Reduce:\n",
        "\n",
        "\n",
        "Write a Python program to calculate the product of a given list of numbers using lambda.\n"
      ],
      "metadata": {
        "id": "cEFGkUx3lKRI"
      }
    },
    {
      "cell_type": "code",
      "source": [
        "from functools import reduce\n",
        "l=[1, 2, 3, 4, 5, 6, 7, 8, 9, 10]\n",
        "\n",
        "print(\"Orignal List  :\",l)\n",
        "\n",
        "# using reduce and lambda\n",
        "s=reduce(lambda a,b:a*b,l)\n",
        "print(\"product = \",s)"
      ],
      "metadata": {
        "colab": {
          "base_uri": "https://localhost:8080/"
        },
        "id": "FXBTBGAZlO59",
        "outputId": "2e42fe70-834e-43e9-f926-5d65b59686fa"
      },
      "execution_count": 38,
      "outputs": [
        {
          "output_type": "stream",
          "name": "stdout",
          "text": [
            "Orignal List  : [1, 2, 3, 4, 5, 6, 7, 8, 9, 10]\n",
            "product =  3628800\n"
          ]
        }
      ]
    },
    {
      "cell_type": "markdown",
      "source": [],
      "metadata": {
        "id": "Tv7D1Vdr-P7I"
      }
    },
    {
      "cell_type": "markdown",
      "source": [
        "Exercise 13 Reduce:\n",
        "\n",
        "\n",
        " Write a Python program to multiply all the numbers in a given list using lambda.\n"
      ],
      "metadata": {
        "id": "fm3vXdyG9xPo"
      }
    },
    {
      "cell_type": "code",
      "source": [
        "from functools import reduce\n",
        "l=[4, 3, 2, 2, -1, 18]\n",
        "\n",
        "\n",
        "print(\"Orignal List  :\",l)\n",
        "\n",
        "# using reduce and lambda\n",
        "s=reduce(lambda a,b:a*b,l)\n",
        "print(\"product = \",s)"
      ],
      "metadata": {
        "colab": {
          "base_uri": "https://localhost:8080/"
        },
        "id": "3JsgwnbY90u8",
        "outputId": "87a4fea6-0a35-4912-e046-fad12f98f799"
      },
      "execution_count": 1,
      "outputs": [
        {
          "output_type": "stream",
          "name": "stdout",
          "text": [
            "Orignal List  : [4, 3, 2, 2, -1, 18]\n",
            "product =  -864\n"
          ]
        }
      ]
    },
    {
      "cell_type": "markdown",
      "source": [
        "Exercise 14 Reduce:\n",
        "\n",
        "\n",
        "Write a Python program to calculate the average value of the numbers in a given tuple of tuples using lambda.\n"
      ],
      "metadata": {
        "id": "vN9nS55k-YSt"
      }
    },
    {
      "cell_type": "code",
      "source": [
        "from functools import reduce\n",
        "t=((10, 10, 10), (30, 45, 56), (81, 80, 39), (1, 2, 3))\n",
        "\n",
        "print(\"Orignal tuples  :\",t)\n",
        "\n",
        "# using reduce and lambda\n",
        "s = tuple(map(lambda x: reduce(lambda a,b: a + b, x) / float(len(x)), zip(*t)))\n",
        "print(\"product = \",s)"
      ],
      "metadata": {
        "colab": {
          "base_uri": "https://localhost:8080/"
        },
        "id": "JIpJSXzu-Znj",
        "outputId": "00318f38-56df-4e05-b932-73715d8ecd21"
      },
      "execution_count": 9,
      "outputs": [
        {
          "output_type": "stream",
          "name": "stdout",
          "text": [
            "Orignal tuples  : ((10, 10, 10), (30, 45, 56), (81, 80, 39), (1, 2, 3))\n",
            "product =  (30.5, 34.25, 27.0)\n"
          ]
        }
      ]
    },
    {
      "cell_type": "markdown",
      "source": [
        "Exercise 15:\n",
        "\n",
        "\n",
        "Write a Python program to sort a given mixed list of integers and strings using lambda. Numbers must be sorted before strings.\n"
      ],
      "metadata": {
        "id": "JtiHVnjEFkFp"
      }
    },
    {
      "cell_type": "code",
      "source": [
        "list1=[19, 'red', 12, 'green', 'blue', 10, 'white', 'green', 1]\n",
        "list1.sort(key=lambda x:(isinstance(x,str),x))\n",
        "print(list1)\n"
      ],
      "metadata": {
        "colab": {
          "base_uri": "https://localhost:8080/"
        },
        "id": "Oirz85KhFvBV",
        "outputId": "7c7605a4-cf84-444b-856a-dfc54f301e2e"
      },
      "execution_count": 10,
      "outputs": [
        {
          "output_type": "stream",
          "name": "stdout",
          "text": [
            "[1, 10, 12, 19, 'blue', 'green', 'green', 'red', 'white']\n"
          ]
        }
      ]
    },
    {
      "cell_type": "markdown",
      "source": [
        "Exercise 16:\n",
        "Write a Python program to count the occurrences of items in a given list using lambda.\n"
      ],
      "metadata": {
        "id": "Dl7V8EeOGBCo"
      }
    },
    {
      "cell_type": "code",
      "source": [
        "list1=[3, 4, 5, 8, 0, 3, 8, 5, 0, 3, 1, 5, 2, 3, 4, 2]\n",
        "\n",
        "print(\"orginal list:\",list1)\n",
        "o=dict(map(lambda x:(x,list1.count(x)),list1))\n",
        "\n",
        "print(\"count the occurance:\",o)"
      ],
      "metadata": {
        "colab": {
          "base_uri": "https://localhost:8080/"
        },
        "id": "d7p1fgPwGDxe",
        "outputId": "049f623c-c7cb-4bf0-ffbf-163ab924b20b"
      },
      "execution_count": 12,
      "outputs": [
        {
          "output_type": "stream",
          "name": "stdout",
          "text": [
            "orginal list: [3, 4, 5, 8, 0, 3, 8, 5, 0, 3, 1, 5, 2, 3, 4, 2]\n",
            "count the occurance: {3: 4, 4: 2, 5: 3, 8: 2, 0: 2, 1: 1, 2: 2}\n"
          ]
        }
      ]
    },
    {
      "cell_type": "markdown",
      "source": [
        "Exercise 17:\n",
        "\n",
        "\n",
        "Write a Python program to remove None values from a given list using the lambda function.\n"
      ],
      "metadata": {
        "id": "VLIPFxrTGEJZ"
      }
    },
    {
      "cell_type": "code",
      "source": [
        "list1 = [12, 0, None, -55, 234, 85, None, 0, 6, -12]\n",
        "\n",
        "newlist= list(filter(lambda x: x is not None, list1))\n",
        "\n",
        "print(\"Original list:\",list1)\n",
        "print(\"New list:\",newlist)"
      ],
      "metadata": {
        "colab": {
          "base_uri": "https://localhost:8080/"
        },
        "id": "YEMI6dh_IMlu",
        "outputId": "bd6296b5-dc0d-47f3-c794-aab93039bfeb"
      },
      "execution_count": 13,
      "outputs": [
        {
          "output_type": "stream",
          "name": "stdout",
          "text": [
            "Original list: [12, 0, None, -55, 234, 85, None, 0, 6, -12]\n",
            "New list: [12, 0, -55, 234, 85, 0, 6, -12]\n"
          ]
        }
      ]
    }
  ]
}